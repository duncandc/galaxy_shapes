{
 "cells": [
  {
   "cell_type": "code",
   "execution_count": 1,
   "metadata": {},
   "outputs": [],
   "source": [
    "from __future__ import print_function, division\n",
    "import numpy as np\n",
    "import matplotlib.pyplot as plt\n",
    "%matplotlib inline"
   ]
  },
  {
   "cell_type": "markdown",
   "metadata": {},
   "source": [
    "# Guo et al. (2009) galaxy size measurements"
   ]
  },
  {
   "cell_type": "code",
   "execution_count": 7,
   "metadata": {},
   "outputs": [],
   "source": [
    "# load 'centrals' galaxy tables\n",
    "\n",
    "from astropy.table import Table\n",
    "fpath = './mnras0398-1129-sm_TableB1/'\n",
    "fname = 'mnr15223_tableb1.dat'\n",
    "names = ['ID', 'RA', 'DEC', 'Mag', 'a50', 'n', 'b/a', 'PA', 'Sky',\n",
    "         'chi^2', 'z', 'Mr', 'Mstar', 'r50', 'g-r', 'Mhalo', 'Visual type']\n",
    "t_1 = Table.read(fpath+fname, format='ascii', names=names)"
   ]
  },
  {
   "cell_type": "markdown",
   "metadata": {},
   "source": [
    "# Linear Regression Model for Median Size"
   ]
  },
  {
   "cell_type": "code",
   "execution_count": 113,
   "metadata": {},
   "outputs": [],
   "source": [
    "from sklearn.linear_model import LinearRegression"
   ]
  },
  {
   "cell_type": "markdown",
   "metadata": {},
   "source": [
    "## Elliptical Galaxies"
   ]
  },
  {
   "cell_type": "code",
   "execution_count": 114,
   "metadata": {},
   "outputs": [],
   "source": [
    "mask = ellipticals & (t_1['r50']>0.0)\n",
    "m = np.array(t_1['Mr'][mask]).reshape((np.sum(mask),1))\n",
    "r = np.array(t_1['r50'][mask]).reshape((np.sum(mask),1))\n",
    "reg = LinearRegression().fit(m, np.log10(r))"
   ]
  },
  {
   "cell_type": "code",
   "execution_count": 116,
   "metadata": {},
   "outputs": [
    {
     "name": "stdout",
     "output_type": "stream",
     "text": [
      "m= -1.03685551832852\n",
      "b= -8.193093038010682\n"
     ]
    }
   ],
   "source": [
    "intercept = reg.intercept_[0]\n",
    "slope = reg.coef_[0][0]/0.4\n",
    "print('m=', slope)\n",
    "print('b=', intercept)\n",
    "\n",
    "def elliptical_size_model(mag, m=slope, b=intercept):\n",
    "    \"\"\"\n",
    "    model for galaxy size\n",
    "    \"\"\"\n",
    "    return 10**(0.4*m*mag + b)"
   ]
  },
  {
   "cell_type": "markdown",
   "metadata": {},
   "source": [
    "## Disk Galaxies"
   ]
  },
  {
   "cell_type": "code",
   "execution_count": 117,
   "metadata": {},
   "outputs": [],
   "source": [
    "mask = disks & (t_1['r50']>0.0)\n",
    "m = np.array(t_1['Mr'][mask]).reshape((np.sum(mask),1))\n",
    "r = np.array(t_1['r50'][mask]).reshape((np.sum(mask),1))\n",
    "reg = LinearRegression().fit(m, np.log10(r))"
   ]
  },
  {
   "cell_type": "code",
   "execution_count": 118,
   "metadata": {},
   "outputs": [
    {
     "name": "stdout",
     "output_type": "stream",
     "text": [
      "m= -0.8102661650155903\n",
      "b= -6.186308931086971\n"
     ]
    }
   ],
   "source": [
    "intercept = reg.intercept_[0]\n",
    "slope = reg.coef_[0][0]/0.4\n",
    "print('m=', slope)\n",
    "print('b=', intercept)\n",
    "\n",
    "def disk_size_model(mag, m=slope, b=intercept):\n",
    "    \"\"\"\n",
    "    model for galaxy size\n",
    "    \"\"\"\n",
    "    return 10**(0.4*m*mag + b)"
   ]
  },
  {
   "cell_type": "markdown",
   "metadata": {},
   "source": [
    "# fit Scatter Model"
   ]
  },
  {
   "cell_type": "markdown",
   "metadata": {},
   "source": [
    "## Elliptical Galaxies"
   ]
  },
  {
   "cell_type": "code",
   "execution_count": 143,
   "metadata": {},
   "outputs": [],
   "source": [
    "nboot = 10000\n",
    "nbins = len(mag_bins)-1\n",
    "\n",
    "sizes = np.zeros((nbins,nboot))\n",
    "scatters = np.zeros((nbins,nboot))\n",
    "\n",
    "for i in range(0,nbins):\n",
    "    mask = (t_1['Mr']<=mag_bins[i]) & (t_1['Mr']>mag_bins[i+1]) & ellipticals\n",
    "    r = t_1['r50'][mask]\n",
    "    model_s = elliptical_size_model(mag_bin_centers[i])\n",
    "    for j in range(0,nboot):\n",
    "        rr = np.random.choice(r, size=len(r), replace=True)\n",
    "        result = lognorm.fit(rr, floc=0.0, fscale=model_s)\n",
    "        scatters[i,j] = result[0]\n",
    "        result = lognorm.fit(rr, floc=0.0)\n",
    "        sizes[i,j] = result[2]\n",
    "\n",
    "elliptical_scatters_err = np.std(scatters, axis=1)\n",
    "elliptical_scatters = np.mean(scatters, axis=1)\n",
    "\n",
    "median_elliptical_sizes = np.mean(sizes, axis=1)\n",
    "elliptical_sizes_err = np.std(sizes, axis=1)"
   ]
  },
  {
   "cell_type": "code",
   "execution_count": 156,
   "metadata": {},
   "outputs": [
    {
     "name": "stdout",
     "output_type": "stream",
     "text": [
      "0.38002679456580557\n"
     ]
    }
   ],
   "source": [
    "mean_elliptical_scatter = np.average(elliptical_scatters, weights=1.0/elliptical_scatters_err)\n",
    "print(mean_elliptical_scatter)"
   ]
  },
  {
   "cell_type": "markdown",
   "metadata": {},
   "source": [
    "## Disk Galaxies"
   ]
  },
  {
   "cell_type": "code",
   "execution_count": 145,
   "metadata": {},
   "outputs": [],
   "source": [
    "nboot = 10000\n",
    "nbins = len(mag_bins)-1\n",
    "\n",
    "sizes = np.zeros((nbins,nboot))\n",
    "scatters = np.zeros((nbins,nboot))\n",
    "\n",
    "for i in range(0,nbins):\n",
    "    mask = (t_1['Mr']<=mag_bins[i]) & (t_1['Mr']>mag_bins[i+1]) & disks\n",
    "    r = t_1['r50'][mask]\n",
    "    model_s = disk_size_model(mag_bin_centers[i])\n",
    "    for j in range(0,nboot):\n",
    "        rr = np.random.choice(r, size=len(r), replace=True)\n",
    "        result = lognorm.fit(rr, floc=0.0, fscale=model_s)\n",
    "        scatters[i,j] = result[0]\n",
    "        result = lognorm.fit(rr, floc=0.0)\n",
    "        sizes[i,j] = result[2]\n",
    "\n",
    "disk_scatters_err = np.std(scatters, axis=1)\n",
    "disk_scatters = np.mean(scatters, axis=1)\n",
    "\n",
    "median_disk_sizes = np.mean(sizes, axis=1)\n",
    "disk_sizes_err = np.std(sizes, axis=1)"
   ]
  },
  {
   "cell_type": "code",
   "execution_count": 155,
   "metadata": {},
   "outputs": [
    {
     "name": "stdout",
     "output_type": "stream",
     "text": [
      "0.3865038283378544\n"
     ]
    }
   ],
   "source": [
    "mean_disk_scatter = np.average(disk_scatters, weights=1.0/disk_scatters_err)\n",
    "print(mean_disk_scatter)"
   ]
  },
  {
   "cell_type": "code",
   "execution_count": 154,
   "metadata": {},
   "outputs": [
    {
     "data": {
      "image/png": "[encoded data removed]",
      "text/plain": [
       "<Figure size 237.6x237.6 with 1 Axes>"
      ]
     },
     "metadata": {},
     "output_type": "display_data"
    },
    {
     "data": {
      "image/png": "[encoded data removed]",
      "text/plain": [
       "<Figure size 237.6x237.6 with 1 Axes>"
      ]
     },
     "metadata": {},
     "output_type": "display_data"
    }
   ],
   "source": [
    "m_sample = np.linspace(-19,-24,1000)\n",
    "\n",
    "plt.figure(figsize=(3.3,3.3))\n",
    "p1 = plt.errorbar(mag_bin_centers, median_elliptical_sizes,\n",
    "             yerr=elliptical_sizes_err, fmt='o', color='red')\n",
    "p2 = plt.errorbar(mag_bin_centers, median_disk_sizes,\n",
    "             yerr=disk_sizes_err, fmt='o', color='blue')\n",
    "l1, = plt.plot(m_sample, elliptical_size_model(m_sample), color='red')\n",
    "l2, = plt.plot(m_sample, disk_size_model(m_sample), color='blue')\n",
    "plt.xlim([-19,-24])\n",
    "plt.ylim([10**(-0.5),10**2.5])\n",
    "plt.yscale('log')\n",
    "plt.legend([p1,p2],['ellipticals','disks'], frameon=False, loc='upper left', fontsize=10)\n",
    "plt.xlabel(r'$M_r - 5\\log(h)$')\n",
    "plt.ylabel(r'$r~[h^{-1}{\\rm kpc}]$')\n",
    "plt.show()\n",
    "\n",
    "plt.figure(figsize=(3.3,3.3))\n",
    "plt.errorbar(mag_bin_centers, elliptical_scatters,\n",
    "             yerr=elliptical_scatters_err, fmt='o', color='red')\n",
    "plt.errorbar(mag_bin_centers, disk_scatters,\n",
    "             yerr=disk_scatters_err, fmt='o', color='blue')\n",
    "plt.plot(m_sample, m_sample*0.0+mean_elliptical_scatter, color='red')\n",
    "plt.plot(m_sample, m_sample*0.0+mean_disk_scatter, color='blue')\n",
    "plt.xlim([-19,-24])\n",
    "plt.ylim([0.1,0.7])\n",
    "plt.legend([p1,p2],['ellipticals','disks'], frameon=False, loc='upper left', fontsize=10)\n",
    "plt.xlabel(r'$M_r - 5\\log(h)$')\n",
    "plt.ylabel(r'$\\sigma_{\\ln(r)}$')\n",
    "plt.show()"
   ]
  },
  {
   "cell_type": "code",
   "execution_count": null,
   "metadata": {},
   "outputs": [],
   "source": []
  }
 ],
 "metadata": {
  "kernelspec": {
   "display_name": "Python 2",
   "language": "python",
   "name": "python2"
  },
  "language_info": {
   "codemirror_mode": {
    "name": "ipython",
    "version": 2
   },
   "file_extension": ".py",
   "mimetype": "text/x-python",
   "name": "python",
   "nbconvert_exporter": "python",
   "pygments_lexer": "ipython2",
   "version": "2.7.15"
  }
 },
 "nbformat": 4,
 "nbformat_minor": 2
}
