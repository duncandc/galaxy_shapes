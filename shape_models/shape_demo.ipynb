{
 "cells": [
  {
   "cell_type": "code",
   "execution_count": 1,
   "metadata": {},
   "outputs": [],
   "source": [
    "from __future__ import print_function, division\n",
    "import numpy as np\n",
    "import matplotlib.pyplot as plt\n",
    "%matplotlib inline"
   ]
  },
  {
   "cell_type": "markdown",
   "metadata": {},
   "source": [
    "# Galaxy Shape Demo"
   ]
  },
  {
   "cell_type": "code",
   "execution_count": 2,
   "metadata": {},
   "outputs": [],
   "source": [
    "from halotools.sim_manager import CachedHaloCatalog\n",
    "halocat = CachedHaloCatalog(simname='bolshoi', halo_finder='rockstar', redshift=0, version_name='halotools_v0p4')"
   ]
  },
  {
   "cell_type": "code",
   "execution_count": 15,
   "metadata": {},
   "outputs": [],
   "source": [
    "from halotools.empirical_models import HodModelFactory\n",
    "\n",
    "# define the central occupatoion model\n",
    "from halotools.empirical_models import TrivialPhaseSpace, Zheng07Cens\n",
    "cens_occ_model =  Zheng07Cens(threshold = -19)\n",
    "cens_prof_model = TrivialPhaseSpace()\n",
    "\n",
    "# define the satellite occupation model\n",
    "from halotools.empirical_models import Zheng07Sats\n",
    "from halotools.empirical_models import NFWPhaseSpace, SubhaloPhaseSpace\n",
    "sats_occ_model =  Zheng07Sats(threshold = -19)\n",
    "sats_prof_model = SubhaloPhaseSpace('satellites', np.logspace(10.5, 15.2, 15))\n",
    "\n",
    "# define shape model\n",
    "from shape_model_componenets import PS08Shapes\n",
    "cens_shape_model = PS08Shapes(gal_type = 'centrals', sample='all', galaxy_type='spiral')\n",
    "sats_shape_model = PS08Shapes(gal_type = 'satellites', sample='all', galaxy_type='spiral')\n",
    "\n",
    "#define alignment model\n",
    "from intrinsic_alignments.ia_models.ia_model_components import RandomAlignment\n",
    "central_orientation_model = RandomAlignment(gal_type='centrals')\n",
    "satellite_orientation_model = RandomAlignment(gal_type='satellites')\n",
    "\n",
    "#projected shapes\n",
    "from shape_model_componenets import ProjectedShape\n",
    "central_proj_shapes_model = ProjectedShape('centrals')\n",
    "satellite_proj_shapes_model = ProjectedShape('satellites')\n",
    "\n",
    "# combine model components\n",
    "model_instance = HodModelFactory(centrals_occupation = cens_occ_model,\n",
    "                                 centrals_profile = cens_prof_model,\n",
    "                                 satellites_occupation = sats_occ_model,\n",
    "                                 satellites_profile = sats_prof_model,\n",
    "                                 centrals_galaxy_shape = cens_shape_model,\n",
    "                                 satellites_galaxy_shape = sats_shape_model,\n",
    "                                 centrals_orientation = central_orientation_model,\n",
    "                                 satellites_orientation = satellite_orientation_model,\n",
    "                                 centrals_proj_shapes = central_proj_shapes_model,\n",
    "                                 satellites_proj_shapes = satellite_proj_shapes_model,\n",
    "                                 model_feature_calling_sequence = (\n",
    "                                 'centrals_occupation',\n",
    "                                 'centrals_profile',\n",
    "                                 'satellites_occupation',\n",
    "                                 'satellites_profile',\n",
    "                                 'centrals_galaxy_shape',\n",
    "                                 'satellites_galaxy_shape',\n",
    "                                 'centrals_orientation',\n",
    "                                 'satellites_orientation',\n",
    "                                 'centrals_proj_shapes',\n",
    "                                 'satellites_proj_shapes')\n",
    "                                )"
   ]
  },
  {
   "cell_type": "code",
   "execution_count": 16,
   "metadata": {},
   "outputs": [
    {
     "name": "stdout",
     "output_type": "stream",
     "text": [
      "number of galaxies:  189592\n"
     ]
    }
   ],
   "source": [
    "# populate mock catalog\n",
    "model_instance.populate_mock(halocat)\n",
    "print(\"number of galaxies: \", len(model_instance.mock.galaxy_table))\n",
    "\n",
    "mock = model_instance.mock.galaxy_table"
   ]
  },
  {
   "cell_type": "code",
   "execution_count": 17,
   "metadata": {},
   "outputs": [],
   "source": [
    "# calculate the distribution of shapes\n",
    "bins = np.linspace(0,1,100)\n",
    "\n",
    "# 3D axis ratios\n",
    "counts_1 = np.histogram(mock['galaxy_b_to_a'], bins=bins)[0]\n",
    "counts_2 = np.histogram(mock['galaxy_c_to_a'], bins=bins)[0]\n",
    "\n",
    "# 2D elipticity\n",
    "e = 1 - mock['galaxy_projected_b_to_a']\n",
    "counts_3 = np.histogram(e, bins=bins)[0]\n",
    "counts_3 = counts_3/np.sum(counts_3)/np.diff(bins)"
   ]
  },
  {
   "cell_type": "code",
   "execution_count": 18,
   "metadata": {},
   "outputs": [
    {
     "data": {
      "image/png": "[encoded data removed]",
      "text/plain": [
       "<Figure size 237.6x237.6 with 3 Axes>"
      ]
     },
     "metadata": {},
     "output_type": "display_data"
    },
    {
     "data": {
      "image/png": "[encoded data removed]",
      "text/plain": [
       "<Figure size 237.6x237.6 with 1 Axes>"
      ]
     },
     "metadata": {},
     "output_type": "display_data"
    }
   ],
   "source": [
    "# 3D shape distribution\n",
    "fig = plt.figure(figsize=(3.3,3.3))\n",
    "\n",
    "# main panel\n",
    "rect = 0.2-0.1, 0.35, 0.55, 0.55  # left, bottom, width, height\n",
    "ax = fig.add_axes(rect)\n",
    "ax.xaxis.set_visible(False)\n",
    "ax.yaxis.set_visible(False)\n",
    "ax.scatter(mock['galaxy_b_to_a'], mock['galaxy_c_to_a'], alpha=0.5, s=1, c=e)\n",
    "ax.plot([0,1],[0,1], '-', color='black')\n",
    "ax.set_xlim([0,1])\n",
    "ax.set_ylim([0,1])\n",
    "\n",
    "# lower panel\n",
    "rect = 0.2-0.1,0.15,0.55,0.2  # left, bottom, width, height\n",
    "ax = fig.add_axes(rect)\n",
    "ax.yaxis.set_visible(False)\n",
    "ax.set_xlim([0,1])\n",
    "ax.plot(bins[:-1], counts_1, color='black')\n",
    "ax.set_xlabel(r'$b/a$')\n",
    "\n",
    "# right panel\n",
    "rect = 0.75-0.1,0.35,0.2,0.55  # left, bottom, width, height\n",
    "ax = fig.add_axes(rect)\n",
    "ax.xaxis.set_visible(False)\n",
    "ax.set_ylim([0,1])\n",
    "ax.yaxis.tick_right()\n",
    "ax.yaxis.set_label_position('right')\n",
    "ax.plot(counts_2, bins[:-1], color='black')\n",
    "ax.set_ylabel(r'$c/a$')\n",
    "\n",
    "plt.show()\n",
    "\n",
    "fig.savefig('/Users/duncan/Desktop/disk_shapes_1.png', dpi=250)\n",
    "\n",
    "\n",
    "# 2D shape distribution\n",
    "fig = plt.figure(figsize=(3.3,3.3))\n",
    "\n",
    "# main panel\n",
    "rect = 0.2, 0.2, 0.7, 0.7  # left, bottom, width, height\n",
    "ax = fig.add_axes(rect)\n",
    "ax.plot(bins[:-1], counts_3, color='black')\n",
    "ax.set_xlim([0,1])\n",
    "ax.set_ylim([0,3])\n",
    "ax.set_xlabel(r'$e \\equiv 1 - b/a$')\n",
    "\n",
    "plt.show()\n",
    "\n",
    "fig.savefig('/Users/duncan/Desktop/disk_e_1.png', dpi=250)"
   ]
  },
  {
   "cell_type": "code",
   "execution_count": null,
   "metadata": {},
   "outputs": [],
   "source": []
  }
 ],
 "metadata": {
  "kernelspec": {
   "display_name": "Python 2",
   "language": "python",
   "name": "python2"
  },
  "language_info": {
   "codemirror_mode": {
    "name": "ipython",
    "version": 2
   },
   "file_extension": ".py",
   "mimetype": "text/x-python",
   "name": "python",
   "nbconvert_exporter": "python",
   "pygments_lexer": "ipython2",
   "version": "2.7.15"
  }
 },
 "nbformat": 4,
 "nbformat_minor": 2
}
