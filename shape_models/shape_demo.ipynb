{
 "cells": [
  {
   "cell_type": "code",
   "execution_count": 1,
   "metadata": {},
   "outputs": [],
   "source": [
    "from __future__ import print_function, division\n",
    "import numpy as np\n",
    "import matplotlib.pyplot as plt\n",
    "%matplotlib inline"
   ]
  },
  {
   "cell_type": "markdown",
   "metadata": {},
   "source": [
    "# Galaxy Shape Demo"
   ]
  },
  {
   "cell_type": "code",
   "execution_count": 2,
   "metadata": {},
   "outputs": [],
   "source": [
    "from halotools.sim_manager import CachedHaloCatalog\n",
    "halocat = CachedHaloCatalog(simname='bolshoi', halo_finder='rockstar', redshift=0, version_name='halotools_v0p4')"
   ]
  },
  {
   "cell_type": "code",
   "execution_count": 3,
   "metadata": {},
   "outputs": [],
   "source": [
    "from halotools.empirical_models import HodModelFactory\n",
    "\n",
    "# define the central occupatoion model\n",
    "from halotools.empirical_models import TrivialPhaseSpace, Zheng07Cens\n",
    "cens_occ_model =  Zheng07Cens(threshold = -19)\n",
    "cens_prof_model = TrivialPhaseSpace()\n",
    "\n",
    "# define the satellite occupation model\n",
    "from halotools.empirical_models import Zheng07Sats\n",
    "from halotools.empirical_models import NFWPhaseSpace, SubhaloPhaseSpace\n",
    "sats_occ_model =  Zheng07Sats(threshold = -19)\n",
    "sats_prof_model = SubhaloPhaseSpace('satellites', np.logspace(10.5, 15.2, 15))\n",
    "\n",
    "# define shape model\n",
    "from shape_model_componenets import PS08Shapes\n",
    "cens_shape_model = PS08Shapes(gal_type = 'centrals',   sample='all', galaxy_type='elliptical')\n",
    "sats_shape_model = PS08Shapes(gal_type = 'satellites', sample='all', galaxy_type='elliptical')\n",
    "\n",
    "# define alignment model\n",
    "from intrinsic_alignments.ia_models.ia_model_components import RandomAlignment\n",
    "central_orientation_model = RandomAlignment(gal_type='centrals')\n",
    "satellite_orientation_model = RandomAlignment(gal_type='satellites')\n",
    "\n",
    "# projected shapes\n",
    "from shape_model_componenets import ProjectedShape\n",
    "central_proj_shapes_model = ProjectedShape('centrals')\n",
    "satellite_proj_shapes_model = ProjectedShape('satellites')\n",
    "\n",
    "# combine model components\n",
    "model_instance = HodModelFactory(centrals_occupation = cens_occ_model,\n",
    "                                 centrals_profile = cens_prof_model,\n",
    "                                 satellites_occupation = sats_occ_model,\n",
    "                                 satellites_profile = sats_prof_model,\n",
    "                                 centrals_galaxy_shape = cens_shape_model,\n",
    "                                 satellites_galaxy_shape = sats_shape_model,\n",
    "                                 centrals_orientation = central_orientation_model,\n",
    "                                 satellites_orientation = satellite_orientation_model,\n",
    "                                 centrals_proj_shapes = central_proj_shapes_model,\n",
    "                                 satellites_proj_shapes = satellite_proj_shapes_model,\n",
    "                                 model_feature_calling_sequence = (\n",
    "                                 'centrals_occupation',\n",
    "                                 'centrals_profile',\n",
    "                                 'satellites_occupation',\n",
    "                                 'satellites_profile',\n",
    "                                 'centrals_galaxy_shape',\n",
    "                                 'satellites_galaxy_shape',\n",
    "                                 'centrals_orientation',\n",
    "                                 'satellites_orientation',\n",
    "                                 'centrals_proj_shapes',\n",
    "                                 'satellites_proj_shapes')\n",
    "                                )"
   ]
  },
  {
   "cell_type": "code",
   "execution_count": 4,
   "metadata": {},
   "outputs": [
    {
     "data": {
      "image/png": "[encoded data removed]",
      "text/plain": [
       "<Figure size 237.6x237.6 with 1 Axes>"
      ]
     },
     "metadata": {},
     "output_type": "display_data"
    },
    {
     "data": {
      "image/png": "[encoded data removed]",
      "text/plain": [
       "<Figure size 237.6x237.6 with 1 Axes>"
      ]
     },
     "metadata": {},
     "output_type": "display_data"
    }
   ],
   "source": [
    "# examine shape distribution model\n",
    "\n",
    "x = np.linspace(0,1,1000)\n",
    "epsilon = cens_shape_model.epsilon_pdf(x)\n",
    "gamma_prime = cens_shape_model.gamma_prime_pdf(x)\n",
    "gamma = cens_shape_model.gamma_pdf(x)\n",
    "\n",
    "plt.figure(figsize=(3.3,3.3))\n",
    "plt.plot(x, epsilon, color='black')\n",
    "plt.xlabel(r'$\\epsilon = 1-b/a$')\n",
    "plt.show()\n",
    "\n",
    "plt.figure(figsize=(3.3,3.3))\n",
    "plt.plot(x, gamma_prime, color='black')\n",
    "plt.xlabel(r'$\\gamma^{\\prime} = 1-c/b$')\n",
    "plt.show()"
   ]
  },
  {
   "cell_type": "code",
   "execution_count": 5,
   "metadata": {},
   "outputs": [
    {
     "name": "stdout",
     "output_type": "stream",
     "text": [
      "number of galaxies:  189627\n"
     ]
    }
   ],
   "source": [
    "# populate mock catalog\n",
    "model_instance.populate_mock(halocat)\n",
    "print(\"number of galaxies: \", len(model_instance.mock.galaxy_table))\n",
    "\n",
    "mock = model_instance.mock.galaxy_table"
   ]
  },
  {
   "cell_type": "code",
   "execution_count": 6,
   "metadata": {},
   "outputs": [],
   "source": [
    "# calculate the distribution of shapes\n",
    "bins = np.linspace(0,1,100)\n",
    "\n",
    "# 3D axis ratios\n",
    "counts_1 = np.histogram(mock['galaxy_b_to_a'], bins=bins)[0]\n",
    "counts_2 = np.histogram(mock['galaxy_c_to_a'], bins=bins)[0]\n",
    "\n",
    "# 2D elipticity\n",
    "e = 1 - mock['galaxy_projected_b_to_a']\n",
    "counts_3 = np.histogram(e, bins=bins)[0]\n",
    "counts_3 = counts_3/np.sum(counts_3)/np.diff(bins)"
   ]
  },
  {
   "cell_type": "code",
   "execution_count": 15,
   "metadata": {},
   "outputs": [
    {
     "ename": "AttributeError",
     "evalue": "Unknown property rasterize",
     "output_type": "error",
     "traceback": [
      "\u001b[0;31m---------------------------------------------------------------------------\u001b[0m",
      "\u001b[0;31mAttributeError\u001b[0m                            Traceback (most recent call last)",
      "\u001b[0;32m<ipython-input-15-5fdbae5dcc5a>\u001b[0m in \u001b[0;36m<module>\u001b[0;34m()\u001b[0m\n\u001b[1;32m      7\u001b[0m \u001b[0max\u001b[0m\u001b[0;34m.\u001b[0m\u001b[0mxaxis\u001b[0m\u001b[0;34m.\u001b[0m\u001b[0mset_visible\u001b[0m\u001b[0;34m(\u001b[0m\u001b[0mFalse\u001b[0m\u001b[0;34m)\u001b[0m\u001b[0;34m\u001b[0m\u001b[0m\n\u001b[1;32m      8\u001b[0m \u001b[0max\u001b[0m\u001b[0;34m.\u001b[0m\u001b[0myaxis\u001b[0m\u001b[0;34m.\u001b[0m\u001b[0mset_visible\u001b[0m\u001b[0;34m(\u001b[0m\u001b[0mFalse\u001b[0m\u001b[0;34m)\u001b[0m\u001b[0;34m\u001b[0m\u001b[0m\n\u001b[0;32m----> 9\u001b[0;31m \u001b[0max\u001b[0m\u001b[0;34m.\u001b[0m\u001b[0mscatter\u001b[0m\u001b[0;34m(\u001b[0m\u001b[0mmock\u001b[0m\u001b[0;34m[\u001b[0m\u001b[0;34m'galaxy_b_to_a'\u001b[0m\u001b[0;34m]\u001b[0m\u001b[0;34m,\u001b[0m \u001b[0mmock\u001b[0m\u001b[0;34m[\u001b[0m\u001b[0;34m'galaxy_c_to_a'\u001b[0m\u001b[0;34m]\u001b[0m\u001b[0;34m,\u001b[0m \u001b[0malpha\u001b[0m\u001b[0;34m=\u001b[0m\u001b[0;36m0.1\u001b[0m\u001b[0;34m,\u001b[0m \u001b[0ms\u001b[0m\u001b[0;34m=\u001b[0m\u001b[0;36m1\u001b[0m\u001b[0;34m,\u001b[0m \u001b[0mc\u001b[0m\u001b[0;34m=\u001b[0m\u001b[0me\u001b[0m\u001b[0;34m,\u001b[0m \u001b[0mrasterize\u001b[0m\u001b[0;34m=\u001b[0m\u001b[0mTrue\u001b[0m\u001b[0;34m)\u001b[0m\u001b[0;34m\u001b[0m\u001b[0m\n\u001b[0m\u001b[1;32m     10\u001b[0m \u001b[0max\u001b[0m\u001b[0;34m.\u001b[0m\u001b[0mplot\u001b[0m\u001b[0;34m(\u001b[0m\u001b[0;34m[\u001b[0m\u001b[0;36m0\u001b[0m\u001b[0;34m,\u001b[0m\u001b[0;36m1\u001b[0m\u001b[0;34m]\u001b[0m\u001b[0;34m,\u001b[0m\u001b[0;34m[\u001b[0m\u001b[0;36m0\u001b[0m\u001b[0;34m,\u001b[0m\u001b[0;36m1\u001b[0m\u001b[0;34m]\u001b[0m\u001b[0;34m,\u001b[0m \u001b[0;34m'-'\u001b[0m\u001b[0;34m,\u001b[0m \u001b[0mcolor\u001b[0m\u001b[0;34m=\u001b[0m\u001b[0;34m'black'\u001b[0m\u001b[0;34m)\u001b[0m\u001b[0;34m\u001b[0m\u001b[0m\n\u001b[1;32m     11\u001b[0m \u001b[0max\u001b[0m\u001b[0;34m.\u001b[0m\u001b[0mset_xlim\u001b[0m\u001b[0;34m(\u001b[0m\u001b[0;34m[\u001b[0m\u001b[0;36m0\u001b[0m\u001b[0;34m,\u001b[0m\u001b[0;36m1\u001b[0m\u001b[0;34m]\u001b[0m\u001b[0;34m)\u001b[0m\u001b[0;34m\u001b[0m\u001b[0m\n",
      "\u001b[0;32m/Users/duncan/anaconda2/lib/python2.7/site-packages/matplotlib/__init__.pyc\u001b[0m in \u001b[0;36minner\u001b[0;34m(ax, *args, **kwargs)\u001b[0m\n\u001b[1;32m   1865\u001b[0m                         \u001b[0;34m\"the Matplotlib list!)\"\u001b[0m \u001b[0;34m%\u001b[0m \u001b[0;34m(\u001b[0m\u001b[0mlabel_namer\u001b[0m\u001b[0;34m,\u001b[0m \u001b[0mfunc\u001b[0m\u001b[0;34m.\u001b[0m\u001b[0m__name__\u001b[0m\u001b[0;34m)\u001b[0m\u001b[0;34m,\u001b[0m\u001b[0;34m\u001b[0m\u001b[0m\n\u001b[1;32m   1866\u001b[0m                         RuntimeWarning, stacklevel=2)\n\u001b[0;32m-> 1867\u001b[0;31m             \u001b[0;32mreturn\u001b[0m \u001b[0mfunc\u001b[0m\u001b[0;34m(\u001b[0m\u001b[0max\u001b[0m\u001b[0;34m,\u001b[0m \u001b[0;34m*\u001b[0m\u001b[0margs\u001b[0m\u001b[0;34m,\u001b[0m \u001b[0;34m**\u001b[0m\u001b[0mkwargs\u001b[0m\u001b[0;34m)\u001b[0m\u001b[0;34m\u001b[0m\u001b[0m\n\u001b[0m\u001b[1;32m   1868\u001b[0m \u001b[0;34m\u001b[0m\u001b[0m\n\u001b[1;32m   1869\u001b[0m         inner.__doc__ = _add_data_doc(inner.__doc__,\n",
      "\u001b[0;32m/Users/duncan/anaconda2/lib/python2.7/site-packages/matplotlib/axes/_axes.pyc\u001b[0m in \u001b[0;36mscatter\u001b[0;34m(self, x, y, s, c, marker, cmap, norm, vmin, vmax, alpha, linewidths, verts, edgecolors, **kwargs)\u001b[0m\n\u001b[1;32m   4335\u001b[0m                 )\n\u001b[1;32m   4336\u001b[0m         \u001b[0mcollection\u001b[0m\u001b[0;34m.\u001b[0m\u001b[0mset_transform\u001b[0m\u001b[0;34m(\u001b[0m\u001b[0mmtransforms\u001b[0m\u001b[0;34m.\u001b[0m\u001b[0mIdentityTransform\u001b[0m\u001b[0;34m(\u001b[0m\u001b[0;34m)\u001b[0m\u001b[0;34m)\u001b[0m\u001b[0;34m\u001b[0m\u001b[0m\n\u001b[0;32m-> 4337\u001b[0;31m         \u001b[0mcollection\u001b[0m\u001b[0;34m.\u001b[0m\u001b[0mupdate\u001b[0m\u001b[0;34m(\u001b[0m\u001b[0mkwargs\u001b[0m\u001b[0;34m)\u001b[0m\u001b[0;34m\u001b[0m\u001b[0m\n\u001b[0m\u001b[1;32m   4338\u001b[0m \u001b[0;34m\u001b[0m\u001b[0m\n\u001b[1;32m   4339\u001b[0m         \u001b[0;32mif\u001b[0m \u001b[0mcolors\u001b[0m \u001b[0;32mis\u001b[0m \u001b[0mNone\u001b[0m\u001b[0;34m:\u001b[0m\u001b[0;34m\u001b[0m\u001b[0m\n",
      "\u001b[0;32m/Users/duncan/anaconda2/lib/python2.7/site-packages/matplotlib/artist.pyc\u001b[0m in \u001b[0;36mupdate\u001b[0;34m(self, props)\u001b[0m\n\u001b[1;32m    886\u001b[0m         \u001b[0;32mtry\u001b[0m\u001b[0;34m:\u001b[0m\u001b[0;34m\u001b[0m\u001b[0m\n\u001b[1;32m    887\u001b[0m             ret = [_update_property(self, k, v)\n\u001b[0;32m--> 888\u001b[0;31m                    for k, v in props.items()]\n\u001b[0m\u001b[1;32m    889\u001b[0m         \u001b[0;32mfinally\u001b[0m\u001b[0;34m:\u001b[0m\u001b[0;34m\u001b[0m\u001b[0m\n\u001b[1;32m    890\u001b[0m             \u001b[0mself\u001b[0m\u001b[0;34m.\u001b[0m\u001b[0meventson\u001b[0m \u001b[0;34m=\u001b[0m \u001b[0mstore\u001b[0m\u001b[0;34m\u001b[0m\u001b[0m\n",
      "\u001b[0;32m/Users/duncan/anaconda2/lib/python2.7/site-packages/matplotlib/artist.pyc\u001b[0m in \u001b[0;36m_update_property\u001b[0;34m(self, k, v)\u001b[0m\n\u001b[1;32m    879\u001b[0m                 \u001b[0mfunc\u001b[0m \u001b[0;34m=\u001b[0m \u001b[0mgetattr\u001b[0m\u001b[0;34m(\u001b[0m\u001b[0mself\u001b[0m\u001b[0;34m,\u001b[0m \u001b[0;34m'set_'\u001b[0m \u001b[0;34m+\u001b[0m \u001b[0mk\u001b[0m\u001b[0;34m,\u001b[0m \u001b[0mNone\u001b[0m\u001b[0;34m)\u001b[0m\u001b[0;34m\u001b[0m\u001b[0m\n\u001b[1;32m    880\u001b[0m                 \u001b[0;32mif\u001b[0m \u001b[0;32mnot\u001b[0m \u001b[0mcallable\u001b[0m\u001b[0;34m(\u001b[0m\u001b[0mfunc\u001b[0m\u001b[0;34m)\u001b[0m\u001b[0;34m:\u001b[0m\u001b[0;34m\u001b[0m\u001b[0m\n\u001b[0;32m--> 881\u001b[0;31m                     \u001b[0;32mraise\u001b[0m \u001b[0mAttributeError\u001b[0m\u001b[0;34m(\u001b[0m\u001b[0;34m'Unknown property %s'\u001b[0m \u001b[0;34m%\u001b[0m \u001b[0mk\u001b[0m\u001b[0;34m)\u001b[0m\u001b[0;34m\u001b[0m\u001b[0m\n\u001b[0m\u001b[1;32m    882\u001b[0m                 \u001b[0;32mreturn\u001b[0m \u001b[0mfunc\u001b[0m\u001b[0;34m(\u001b[0m\u001b[0mv\u001b[0m\u001b[0;34m)\u001b[0m\u001b[0;34m\u001b[0m\u001b[0m\n\u001b[1;32m    883\u001b[0m \u001b[0;34m\u001b[0m\u001b[0m\n",
      "\u001b[0;31mAttributeError\u001b[0m: Unknown property rasterize"
     ]
    },
    {
     "data": {
      "image/png": "[encoded data removed]",
      "text/plain": [
       "<Figure size 237.6x237.6 with 1 Axes>"
      ]
     },
     "metadata": {},
     "output_type": "display_data"
    }
   ],
   "source": [
    "# 3D shape distribution\n",
    "fig = plt.figure(figsize=(3.3,3.3))\n",
    "\n",
    "# main panel\n",
    "rect = 0.2-0.1, 0.35, 0.55, 0.55  # left, bottom, width, height\n",
    "ax = fig.add_axes(rect)\n",
    "ax.xaxis.set_visible(False)\n",
    "ax.yaxis.set_visible(False)\n",
    "ax.scatter(mock['galaxy_b_to_a'], mock['galaxy_c_to_a'], alpha=0.1, s=1, c=e, rasterize=True)\n",
    "ax.plot([0,1],[0,1], '-', color='black')\n",
    "ax.set_xlim([0,1])\n",
    "ax.set_ylim([0,1])\n",
    "\n",
    "# lower panel\n",
    "rect = 0.2-0.1,0.15,0.55,0.2  # left, bottom, width, height\n",
    "ax = fig.add_axes(rect)\n",
    "ax.yaxis.set_visible(False)\n",
    "ax.set_xlim([0,1])\n",
    "ax.plot(bins[:-1], counts_1, color='black')\n",
    "ax.set_xlabel(r'$b/a$')\n",
    "\n",
    "# right panel\n",
    "rect = 0.75-0.1,0.35,0.2,0.55  # left, bottom, width, height\n",
    "ax = fig.add_axes(rect)\n",
    "ax.xaxis.set_visible(False)\n",
    "ax.set_ylim([0,1])\n",
    "ax.yaxis.tick_right()\n",
    "ax.yaxis.set_label_position('right')\n",
    "ax.plot(counts_2, bins[:-1], color='black')\n",
    "ax.set_ylabel(r'$c/a$')\n",
    "\n",
    "plt.show()\n",
    "\n",
    "\n",
    "# 2D shape distribution\n",
    "fig = plt.figure(figsize=(3.3,3.3))\n",
    "\n",
    "# main panel\n",
    "rect = 0.2, 0.2, 0.7, 0.7  # left, bottom, width, height\n",
    "ax = fig.add_axes(rect)\n",
    "ax.plot(bins[:-1], counts_3, color='black')\n",
    "ax.set_xlim([0,1])\n",
    "ax.set_ylim([0,3])\n",
    "ax.set_xlabel(r'$e \\equiv 1 - b/a$')\n",
    "\n",
    "plt.show()\n",
    "\n"
   ]
  },
  {
   "cell_type": "code",
   "execution_count": null,
   "metadata": {},
   "outputs": [],
   "source": []
  }
 ],
 "metadata": {
  "kernelspec": {
   "display_name": "Python 2",
   "language": "python",
   "name": "python2"
  },
  "language_info": {
   "codemirror_mode": {
    "name": "ipython",
    "version": 2
   },
   "file_extension": ".py",
   "mimetype": "text/x-python",
   "name": "python",
   "nbconvert_exporter": "python",
   "pygments_lexer": "ipython2",
   "version": "2.7.15"
  }
 },
 "nbformat": 4,
 "nbformat_minor": 2
}
