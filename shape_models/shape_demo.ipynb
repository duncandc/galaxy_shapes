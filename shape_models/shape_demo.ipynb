{
 "cells": [
  {
   "cell_type": "code",
   "execution_count": 1,
   "metadata": {},
   "outputs": [],
   "source": [
    "from __future__ import print_function, division\n",
    "import numpy as np\n",
    "import matplotlib.pyplot as plt\n",
    "%matplotlib inline"
   ]
  },
  {
   "cell_type": "markdown",
   "metadata": {},
   "source": [
    "# Galaxy Shape Demo"
   ]
  },
  {
   "cell_type": "code",
   "execution_count": 2,
   "metadata": {},
   "outputs": [],
   "source": [
    "from halotools.sim_manager import CachedHaloCatalog\n",
    "halocat = CachedHaloCatalog(simname='bolshoi', halo_finder='rockstar', redshift=0, version_name='halotools_v0p4')"
   ]
  },
  {
   "cell_type": "code",
   "execution_count": 27,
   "metadata": {},
   "outputs": [],
   "source": [
    "from halotools.empirical_models import HodModelFactory\n",
    "\n",
    "# define the central occupatoion model\n",
    "from halotools.empirical_models import TrivialPhaseSpace, Cacciato09Cens\n",
    "cens_occ_model =  Cacciato09Cens(prim_haloprop_key = 'halo_mvir', threshold = 9.0)\n",
    "cens_prof_model = TrivialPhaseSpace()\n",
    "\n",
    "# define the satellite occupation model\n",
    "from halotools.empirical_models import Cacciato09Sats\n",
    "from halotools.empirical_models import NFWPhaseSpace, SubhaloPhaseSpace\n",
    "sats_occ_model =  Cacciato09Sats(prim_haloprop_key = 'halo_mvir', threshold = 9.0)\n",
    "sats_occ_model._suppress_repeated_param_warning = True\n",
    "sats_prof_model = NFWPhaseSpace()\n",
    "\n",
    "# convert luminosity to magnitude\n",
    "from occupation_model_components import MagnitudesSDSS\n",
    "central_mag_model = MagnitudesSDSS(gal_type='centrals')\n",
    "satellite_mag_model = MagnitudesSDSS(gal_type='satellites')\n",
    "\n",
    "# define quenching model\n",
    "from halotools.empirical_models import ZuMandelbaum16QuenchingCens, ZuMandelbaum16QuenchingSats\n",
    "cens_quenching_model = ZuMandelbaum16QuenchingCens(prim_haloprop_key = 'halo_mvir')\n",
    "sats_quenching_model = ZuMandelbaum16QuenchingSats(prim_haloprop_key = 'halo_mvir')\n",
    "\n",
    "# define morphology model\n",
    "from morphology_model_components import Morphology_2 as Morphology\n",
    "cens_morpholopgy_model = Morphology(gal_type='centrals')\n",
    "sats_morpholopgy_model = Morphology(gal_type='satellites')\n",
    "\n",
    "# define shape model\n",
    "from shape_model_components import PS08Shapes, EllipticalGalaxyShapes, DiskGalaxyShapes\n",
    "cens_elliptical_shape_model = EllipticalGalaxyShapes(gal_type='centrals')\n",
    "cens_disk_shape_model       = DiskGalaxyShapes(gal_type='centrals')\n",
    "sats_elliptical_shape_model = EllipticalGalaxyShapes(gal_type='satellites')\n",
    "sats_disk_shape_model       = DiskGalaxyShapes(gal_type='satellites')\n",
    "\n",
    "# define alignment model\n",
    "from intrinsic_alignments.ia_models.ia_model_components import RandomAlignment\n",
    "central_orientation_model = RandomAlignment(gal_type='centrals')\n",
    "satellite_orientation_model = RandomAlignment(gal_type='satellites')\n",
    "\n",
    "# projected shapes\n",
    "from shape_model_components import ProjectedShapes\n",
    "central_proj_shapes_model = ProjectedShapes('centrals')\n",
    "satellite_proj_shapes_model = ProjectedShapes('satellites')\n",
    "\n",
    "# extinction model\n",
    "from extinction_model_components import Shao07DustExtinction\n",
    "central_extinction_model = Shao07DustExtinction(gal_type='centrals')\n",
    "satellite_extinction_model = Shao07DustExtinction(gal_type='satellites')\n",
    "\n",
    "# combine model components\n",
    "model_instance = HodModelFactory(centrals_occupation = cens_occ_model,\n",
    "                                 centrals_profile = cens_prof_model,\n",
    "                                 centrals_mag_model = central_mag_model,\n",
    "                                 satellites_mag_model = satellite_mag_model,\n",
    "                                 satellites_occupation = sats_occ_model,\n",
    "                                 satellites_profile = sats_prof_model,\n",
    "                                 centrals_quenching = cens_quenching_model,\n",
    "                                 satellites_quenching = sats_quenching_model,\n",
    "                                 centrals_morphology = cens_morpholopgy_model,\n",
    "                                 satellites_morphology = sats_morpholopgy_model,\n",
    "                                 centrals_elliptical_galaxy_shape = cens_elliptical_shape_model,\n",
    "                                 centrals_disk_galaxy_shape = cens_disk_shape_model,\n",
    "                                 satellites_elliptical_galaxy_shape = sats_elliptical_shape_model,\n",
    "                                 satellites_disk_galaxy_shape = sats_disk_shape_model,\n",
    "                                 centrals_orientation = central_orientation_model,\n",
    "                                 satellites_orientation = satellite_orientation_model,\n",
    "                                 centrals_proj_shapes = central_proj_shapes_model,\n",
    "                                 satellites_proj_shapes = satellite_proj_shapes_model,\n",
    "                                 centrals_extinction_model = central_extinction_model,\n",
    "                                 satellites_extinction_model = satellite_extinction_model,\n",
    "                                 model_feature_calling_sequence = (\n",
    "                                 'centrals_occupation',\n",
    "                                 'centrals_profile',\n",
    "                                 'satellites_occupation',\n",
    "                                 'satellites_profile',\n",
    "                                 'centrals_mag_model',\n",
    "                                 'satellites_mag_model',\n",
    "                                 'centrals_quenching',\n",
    "                                 'satellites_quenching',\n",
    "                                 'centrals_morphology',\n",
    "                                 'satellites_morphology',\n",
    "                                 'centrals_elliptical_galaxy_shape',\n",
    "                                 'centrals_disk_galaxy_shape',\n",
    "                                 'satellites_elliptical_galaxy_shape',\n",
    "                                 'satellites_disk_galaxy_shape',\n",
    "                                 'centrals_orientation',\n",
    "                                 'satellites_orientation',\n",
    "                                 'centrals_proj_shapes',\n",
    "                                 'satellites_proj_shapes',\n",
    "                                 'centrals_extinction_model',\n",
    "                                 'satellites_extinction_model',)\n",
    "                                )"
   ]
  },
  {
   "cell_type": "code",
   "execution_count": 17,
   "metadata": {},
   "outputs": [
    {
     "data": {
      "image/png": "[encoded data removed]",
      "text/plain": [
       "<Figure size 237.6x237.6 with 1 Axes>"
      ]
     },
     "metadata": {},
     "output_type": "display_data"
    },
    {
     "data": {
      "image/png": "[encoded data removed]",
      "text/plain": [
       "<Figure size 237.6x237.6 with 1 Axes>"
      ]
     },
     "metadata": {},
     "output_type": "display_data"
    }
   ],
   "source": [
    "# examine shape distribution model\n",
    "\n",
    "x = np.linspace(0,1,1000)\n",
    "epsilon_1 = cens_disk_shape_model.epsilon_pdf(x)\n",
    "gamma_prime_1 = cens_disk_shape_model.gamma_prime_pdf(x)\n",
    "epsilon_2 = cens_elliptical_shape_model.epsilon_pdf(x)\n",
    "gamma_prime_2 = cens_elliptical_shape_model.gamma_prime_pdf(x)\n",
    "\n",
    "\n",
    "\n",
    "fig = plt.figure(figsize=(3.3,3.3))\n",
    "rect = 0.2, 0.2, 0.7, 0.7  # left, bottom, width, height\n",
    "ax = fig.add_axes(rect)\n",
    "l1, = ax.plot(x, epsilon_1, color='blue')\n",
    "l2, = ax.plot(x, epsilon_2, color='red')\n",
    "ax.set_xlabel(r'$\\epsilon = 1-b/a$')\n",
    "ax.set_ylabel(r'$p(\\epsilon)$')\n",
    "plt.legend([l1,l2],['disks', 'ellipticals'],\n",
    "           frameon=False, numpoints=1, fontsize=10)\n",
    "plt.show()\n",
    "\n",
    "fname = 'epsilon_pdf.pdf'\n",
    "fig.savefig('./figures/'+fname, dpi=250)\n",
    "\n",
    "fig = plt.figure(figsize=(3.3,3.3))\n",
    "rect = 0.2, 0.2, 0.7, 0.7  # left, bottom, width, height\n",
    "ax = fig.add_axes(rect)\n",
    "l1, = ax.plot(x, gamma_prime_1, color='blue')\n",
    "l2, = ax.plot(x, gamma_prime_2, color='red')\n",
    "ax.set_xlabel(r'$\\gamma^{\\prime} = 1-c/b$')\n",
    "ax.set_ylabel(r'$p(\\gamma^{\\prime})$')\n",
    "plt.legend([l1,l2],['disks', 'ellipticals'],\n",
    "           frameon=False, numpoints=1, fontsize=10)\n",
    "\n",
    "plt.show()\n",
    "\n",
    "fname = 'gamma_prime_pdf.pdf'\n",
    "fig.savefig('./figures/'+fname, dpi=250)"
   ]
  },
  {
   "cell_type": "markdown",
   "metadata": {},
   "source": [
    "## Populate Mock Catalog"
   ]
  },
  {
   "cell_type": "code",
   "execution_count": 18,
   "metadata": {},
   "outputs": [
    {
     "name": "stdout",
     "output_type": "stream",
     "text": [
      "number of galaxies:  542476\n",
      "satellite fraction:  0.27186640515\n",
      "quiescent fraction:  0.521084803752\n"
     ]
    }
   ],
   "source": [
    "# populate mock catalog\n",
    "model_instance.populate_mock(halocat)\n",
    "mock = model_instance.mock.galaxy_table\n",
    "\n",
    "N_gal = len(mock)\n",
    "print(\"number of galaxies: \", N_gal)\n",
    "\n",
    "f_sat = 1.0*np.sum(mock['gal_type']=='satellites')/N_gal\n",
    "print(\"satellite fraction: \", f_sat)\n",
    "\n",
    "f_quiescent = 1.0*np.sum(mock['quiescent']==True)/N_gal\n",
    "print(\"quiescent fraction: \", f_quiescent)"
   ]
  },
  {
   "cell_type": "markdown",
   "metadata": {},
   "source": [
    "## 3D shape distribution"
   ]
  },
  {
   "cell_type": "code",
   "execution_count": 37,
   "metadata": {},
   "outputs": [],
   "source": [
    "# calculate the distribution of shapes\n",
    "bins = np.linspace(0,1,100)\n",
    "\n",
    "# 3D axis ratios\n",
    "counts_1 = np.histogram(mock['galaxy_b_to_a'], bins=bins)[0]\n",
    "counts_2 = np.histogram(mock['galaxy_c_to_a'], bins=bins)[0]\n",
    "\n",
    "# 2D elipticity\n",
    "mask = (mock['Mag_r'])<-17\n",
    "e = 1 - mock['galaxy_projected_b_to_a'][mask]\n",
    "counts_3 = np.histogram(e, bins=bins)[0]\n",
    "counts_3 = counts_3/np.sum(counts_3)/np.diff(bins)\n",
    "\n",
    "mask_a = mock['elliptical']==True\n",
    "ea = 1 - mock['galaxy_projected_b_to_a'][mask&mask_a]\n",
    "counts_3a = np.histogram(ea, bins=bins)[0]\n",
    "counts_3a = counts_3a/np.sum(counts_3a)/np.diff(bins)\n",
    "\n",
    "mask_b = mock['disk']==True\n",
    "eb = 1 - mock['galaxy_projected_b_to_a'][mask&mask_b]\n",
    "counts_3b = np.histogram(eb, bins=bins)[0]\n",
    "counts_3b = counts_3b/np.sum(counts_3b)/np.diff(bins)\n",
    "\n",
    "fq = 1.0*np.sum(mask_a)/len(mock)"
   ]
  },
  {
   "cell_type": "code",
   "execution_count": 38,
   "metadata": {},
   "outputs": [
    {
     "data": {
      "image/png": "[encoded data removed]",
      "text/plain": [
       "<Figure size 237.6x237.6 with 3 Axes>"
      ]
     },
     "metadata": {},
     "output_type": "display_data"
    }
   ],
   "source": [
    "# 3D shape distribution\n",
    "fig = plt.figure(figsize=(3.3,3.3))\n",
    "\n",
    "# main panel\n",
    "rect = 0.2-0.1, 0.35, 0.55, 0.55  # left, bottom, width, height\n",
    "ax = fig.add_axes(rect)\n",
    "ax.xaxis.set_visible(False)\n",
    "ax.yaxis.set_visible(False)\n",
    "ax.scatter(mock['galaxy_b_to_a'], mock['galaxy_c_to_a'],\n",
    "           alpha=0.1, s=1, c=e, rasterized=True)\n",
    "ax.plot([0,1],[0,1], '-', color='black')\n",
    "ax.set_xlim([0,1])\n",
    "ax.set_ylim([0,1])\n",
    "\n",
    "# lower panel\n",
    "rect = 0.2-0.1,0.15,0.55,0.2  # left, bottom, width, height\n",
    "ax = fig.add_axes(rect)\n",
    "ax.yaxis.set_visible(False)\n",
    "ax.set_xlim([0,1])\n",
    "ax.plot(bins[:-1], counts_1, color='black')\n",
    "ax.set_xlabel(r'$b/a$')\n",
    "\n",
    "# right panel\n",
    "rect = 0.75-0.1,0.35,0.2,0.55  # left, bottom, width, height\n",
    "ax = fig.add_axes(rect)\n",
    "ax.xaxis.set_visible(False)\n",
    "ax.set_ylim([0,1])\n",
    "ax.yaxis.tick_right()\n",
    "ax.yaxis.set_label_position('right')\n",
    "ax.plot(counts_2, bins[:-1], color='black')\n",
    "ax.set_ylabel(r'$c/a$')\n",
    "\n",
    "plt.show()\n",
    "\n",
    "fname = '3d_axis_ratio_distribution.pdf'\n",
    "fig.savefig('./figures/'+fname, dpi=250)"
   ]
  },
  {
   "cell_type": "markdown",
   "metadata": {},
   "source": [
    "## Projected Shape Distribution"
   ]
  },
  {
   "cell_type": "code",
   "execution_count": 39,
   "metadata": {},
   "outputs": [
    {
     "data": {
      "image/png": "[encoded data removed]",
      "text/plain": [
       "<Figure size 237.6x237.6 with 1 Axes>"
      ]
     },
     "metadata": {},
     "output_type": "display_data"
    }
   ],
   "source": [
    "# observed ellipticity\n",
    "\n",
    "# load PS08 data\n",
    "from astropy.table import Table\n",
    "\n",
    "# open elliptical data\n",
    "t1 = Table.read('../data/PS08/figure_4.dat', format='ascii')\n",
    "x1 = 1-t1['b/a']\n",
    "y1 = t1['normalized_frequency']\n",
    "err1 = np.fabs(t1['error_+'] - t1['error_-'])\n",
    "\n",
    "# open disk data\n",
    "t2 = Table.read('../data/PS08/figure_7.dat', format='ascii')\n",
    "x2 = 1-t2['b/a']\n",
    "y2 = t2['normalized_frequency']\n",
    "err2 = np.fabs(t2['error_+'] - t2['error_-'])\n",
    "\n",
    "# combine shape data into single sample, disks+ellipticals\n",
    "f = 282203.0/(303390.0+282203.0)\n",
    "y = (1-f)*y1 + f*y2\n",
    "x = (x1+x2)/2.0\n",
    "err = np.sqrt((1-f)*err1**2 + f*err2**2)\n",
    "\n",
    "# 2D shape distribution\n",
    "fig = plt.figure(figsize=(3.3,3.3))\n",
    "\n",
    "# main panel\n",
    "rect = 0.2, 0.2, 0.7, 0.7  # left, bottom, width, height\n",
    "ax = fig.add_axes(rect)\n",
    "l1, = ax.plot(bins[:-1], counts_3, color='black')\n",
    "l2, = ax.plot(bins[:-1], counts_3a*fq, color='red')\n",
    "l3, = ax.plot(bins[:-1], counts_3b*(1-fq), color='blue')\n",
    "p1 = ax.errorbar(x, y, yerr=err, fmt='o', ms=5)\n",
    "ax.set_xlim([0,1])\n",
    "ax.set_ylim([0,3])\n",
    "ax.set_xlabel(r'${\\rm projected}~e \\equiv 1 - b/a$')\n",
    "ax.set_ylabel('frequency')\n",
    "plt.legend([l1,l2,l3,p1],\n",
    "           ['all galaxies', 'ellipticals', 'disks', 'SDSS'],\n",
    "           frameon=False, numpoints=1, fontsize=10)\n",
    "\n",
    "plt.show()\n",
    "\n",
    "fname = 'ellipticity_distribution.pdf'\n",
    "fig.savefig('./figures/'+fname, dpi=250)"
   ]
  },
  {
   "cell_type": "code",
   "execution_count": 40,
   "metadata": {},
   "outputs": [
    {
     "data": {
      "image/png": "[encoded data removed]",
      "text/plain": [
       "<Figure size 237.6x237.6 with 2 Axes>"
      ]
     },
     "metadata": {},
     "output_type": "display_data"
    }
   ],
   "source": [
    "# inclination angle effect\n",
    "\n",
    "x = 1-e\n",
    "y = np.fabs(np.cos(mock['galaxy_theta']))\n",
    "\n",
    "bins = np.linspace(0,1,50)\n",
    "z = np.histogram2d(x, y, bins=bins)[0]\n",
    "z = z/np.max(z)\n",
    "\n",
    "# inclination angle\n",
    "fig = plt.figure(figsize=(3.3,3.3))\n",
    "\n",
    "# main panel\n",
    "rect = 0.2, 0.2, 0.7, 0.7  # left, bottom, width, height\n",
    "ax = fig.add_axes(rect)\n",
    "rect = 0.92, 0.2, 0.04, 0.7  # left, bottom, width, height\n",
    "cax = fig.add_axes(rect)\n",
    "im = ax.imshow(z.T[::-1], interpolation='nearest', extent=[0,1,0,1])\n",
    "ax.set_xlabel(r'${\\rm projected}~ b/a$')\n",
    "ax.set_ylabel(r'$\\cos(\\theta)$')\n",
    "fig.colorbar(im,cax=cax, label='relative density')\n",
    "plt.show()\n",
    "\n",
    "fname = 'inclination_angle_vs_b_to_a.pdf'\n",
    "fig.savefig('./figures/'+fname, dpi=250)"
   ]
  },
  {
   "cell_type": "code",
   "execution_count": null,
   "metadata": {},
   "outputs": [],
   "source": []
  }
 ],
 "metadata": {
  "kernelspec": {
   "display_name": "Python 2",
   "language": "python",
   "name": "python2"
  },
  "language_info": {
   "codemirror_mode": {
    "name": "ipython",
    "version": 2
   },
   "file_extension": ".py",
   "mimetype": "text/x-python",
   "name": "python",
   "nbconvert_exporter": "python",
   "pygments_lexer": "ipython2",
   "version": "2.7.15"
  }
 },
 "nbformat": 4,
 "nbformat_minor": 2
}
