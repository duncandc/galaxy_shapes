{
 "cells": [
  {
   "cell_type": "code",
   "execution_count": 1,
   "metadata": {},
   "outputs": [],
   "source": [
    "from __future__ import print_function, division\n",
    "import numpy as np\n",
    "import matplotlib.pyplot as plt\n",
    "%matplotlib inline"
   ]
  },
  {
   "cell_type": "markdown",
   "metadata": {},
   "source": [
    "# SDSS Shape Measurements"
   ]
  },
  {
   "cell_type": "markdown",
   "metadata": {},
   "source": [
    "## Projected Axis Ratios"
   ]
  },
  {
   "cell_type": "code",
   "execution_count": 10,
   "metadata": {},
   "outputs": [],
   "source": [
    "from astropy.table import Table\n",
    "t_1 = Table.read('./data/sample_1_shapes.dat', format='ascii')\n",
    "t_2 = Table.read('./data/sample_2_shapes.dat', format='ascii')\n",
    "t_3 = Table.read('./data/sample_3_shapes.dat', format='ascii')\n",
    "t_4 = Table.read('./data/sample_4_shapes.dat', format='ascii')\n",
    "t_5 = Table.read('./data/sample_5_shapes.dat', format='ascii')\n",
    "t_6 = Table.read('./data/sample_6_shapes.dat', format='ascii')"
   ]
  },
  {
   "cell_type": "code",
   "execution_count": 33,
   "metadata": {},
   "outputs": [
    {
     "data": {
      "image/png": "[encoded data removed]",
      "text/plain": [
       "<Figure size 504x288 with 6 Axes>"
      ]
     },
     "metadata": {},
     "output_type": "display_data"
    }
   ],
   "source": [
    "# row and column sharing\n",
    "fig, ((ax1, ax2, ax3), (ax4, ax5, ax6)) = plt.subplots(2, 3, sharey=True, figsize=(7.0,4.0))\n",
    "plt.subplots_adjust(wspace=0, hspace=0)\n",
    "\n",
    "ax1.text(0.2, 3, r'$-17>M_r>-18$')\n",
    "ax1.errorbar(t_1['q'], t_1['frequency'], t_1['err'], fmt='o', color='black', ms=4)\n",
    "ax1.set_xlim([0,1])\n",
    "ax1.set_ylim([0,3.5])\n",
    "ax1.set_xticklabels(['','','',''])\n",
    "\n",
    "ax2.text(0.2, 3, r'$-18>M_r>-19$')\n",
    "ax2.errorbar(t_2['q'], t_2['frequency'], t_2['err'], fmt='o', color='black', ms=4)\n",
    "ax2.set_xlim([0,1])\n",
    "ax2.set_ylim([0,3.5])\n",
    "ax2.set_xticklabels(['','','',''])\n",
    "\n",
    "ax3.text(0.2, 3, r'$-19>M_r>-20$')\n",
    "ax3.errorbar(t_3['q'], t_3['frequency'], t_3['err'], fmt='o', color='black', ms=4)\n",
    "ax3.set_xlim([0,1])\n",
    "ax3.set_ylim([0,3.5])\n",
    "ax3.set_xticklabels(['','','',''])\n",
    "\n",
    "ax4.text(0.2, 3, r'$-20>M_r>-21$')\n",
    "ax4.errorbar(t_4['q'], t_4['frequency'], t_4['err'], fmt='o', color='black', ms=4)\n",
    "ax4.set_xlim([0,1])\n",
    "ax4.set_ylim([0,3.5])\n",
    "ax4.set_xticks([0,0.25,0.5,0.75])\n",
    "\n",
    "ax5.text(0.2, 3, r'$-21>M_r>-22$')\n",
    "ax5.errorbar(t_5['q'], t_5['frequency'], t_5['err'], fmt='o', color='black', ms=4)\n",
    "ax5.set_xlim([0,1])\n",
    "ax5.set_ylim([0,3.5])\n",
    "ax5.set_xticks([0,0.25,0.5,0.75])\n",
    "\n",
    "ax6.text(0.2, 3, r'$-22>M_r>-23$')\n",
    "ax6.errorbar(t_6['q'], t_6['frequency'], t_6['err'], fmt='o', color='black', ms=4)\n",
    "ax6.set_xlim([0,1])\n",
    "ax6.set_ylim([0,3.5])\n",
    "ax6.set_xticks([0,0.25,0.5,0.75,1.0])\n",
    "\n",
    "\n",
    "plt.show()"
   ]
  },
  {
   "cell_type": "markdown",
   "metadata": {},
   "source": [
    "## Disk Fraction"
   ]
  },
  {
   "cell_type": "code",
   "execution_count": 49,
   "metadata": {},
   "outputs": [],
   "source": [
    "from astropy.table import Table\n",
    "t = Table.read('./data/disk_fraction.dat', format='ascii')"
   ]
  },
  {
   "cell_type": "code",
   "execution_count": 50,
   "metadata": {},
   "outputs": [
    {
     "data": {
      "image/png": "[encoded data removed]",
      "text/plain": [
       "<Figure size 237.6x237.6 with 1 Axes>"
      ]
     },
     "metadata": {},
     "output_type": "display_data"
    }
   ],
   "source": [
    "plt.figure(figsize=(3.3,3.3))\n",
    "plt.errorbar(t['mag'],t['f_disk'], t['err'], fmt='o', color='black', ms=4)\n",
    "plt.ylim([0,1])\n",
    "plt.xlim([-17,-23])\n",
    "plt.ylabel(r'$f_{\\rm disk}$')\n",
    "plt.xlabel(r'$M_{r0.1}$')\n",
    "plt.show()"
   ]
  },
  {
   "cell_type": "code",
   "execution_count": null,
   "metadata": {},
   "outputs": [],
   "source": []
  }
 ],
 "metadata": {
  "kernelspec": {
   "display_name": "Python 2",
   "language": "python",
   "name": "python2"
  },
  "language_info": {
   "codemirror_mode": {
    "name": "ipython",
    "version": 2
   },
   "file_extension": ".py",
   "mimetype": "text/x-python",
   "name": "python",
   "nbconvert_exporter": "python",
   "pygments_lexer": "ipython2",
   "version": "2.7.15"
  }
 },
 "nbformat": 4,
 "nbformat_minor": 2
}
