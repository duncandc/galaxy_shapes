{
 "cells": [
  {
   "cell_type": "code",
   "execution_count": 1,
   "metadata": {},
   "outputs": [],
   "source": [
    "from __future__ import print_function, division\n",
    "import numpy as np\n",
    "import matplotlib.pyplot as plt\n",
    "%matplotlib inline"
   ]
  },
  {
   "cell_type": "markdown",
   "metadata": {},
   "source": [
    "# SDSS Shapes Analysis"
   ]
  },
  {
   "cell_type": "code",
   "execution_count": 2,
   "metadata": {},
   "outputs": [
    {
     "name": "stdout",
     "output_type": "stream",
     "text": [
      "RA\n",
      "DEC\n",
      "Z\n",
      "ZTYPE\n",
      "FGOTMAIN\n",
      "AB_DEV\n",
      "AB_EXP\n",
      "AB_ISO\n",
      "PHI_ISO_DEG\n",
      "PHI_DEV_DEG\n",
      "PHI_EXP_DEG\n",
      "ABSMAG_u0.1\n",
      "ABSMAG_g0.1\n",
      "ABSMAG_r0.1\n",
      "ABSMAG_i0.1\n",
      "ABSMAG_z0.1\n",
      "FRACPSF\n"
     ]
    }
   ],
   "source": [
    "# open SDSS catalog\n",
    "\n",
    "from astropy.table import Table\n",
    "fpath = '../data/SDSS_Main/'\n",
    "fname = 'sdss_vagc.hdf5'\n",
    "t = Table.read(fpath+fname, path='data')\n",
    "\n",
    "for colname in t.dtype.names:\n",
    "    print(colname)"
   ]
  },
  {
   "cell_type": "code",
   "execution_count": 3,
   "metadata": {},
   "outputs": [
    {
     "name": "stdout",
     "output_type": "stream",
     "text": [
      "16205 40464 111172 187776 142809 142809\n"
     ]
    }
   ],
   "source": [
    "disks = t['FRACPSF'][:,2] < 0.8\n",
    "ellipticals = t['FRACPSF'][:,2] >= 0.8\n",
    "\n",
    "mask_1 = (t['ABSMAG_r0.1'] > -18) & (t['ABSMAG_r0.1'] <= -17)\n",
    "mask_2 = (t['ABSMAG_r0.1'] > -19) & (t['ABSMAG_r0.1'] <= -18)\n",
    "mask_3 = (t['ABSMAG_r0.1'] > -20) & (t['ABSMAG_r0.1'] <= -19)\n",
    "mask_4 = (t['ABSMAG_r0.1'] > -21) & (t['ABSMAG_r0.1'] <= -20)\n",
    "mask_5 = (t['ABSMAG_r0.1'] > -22) & (t['ABSMAG_r0.1'] <= -21)\n",
    "mask_6 = (t['ABSMAG_r0.1'] > -23) & (t['ABSMAG_r0.1'] <= -22)\n",
    "\n",
    "N_1, N_2, N_3, N_4, N_5, N_6 = np.sum(mask_1), np.sum(mask_2), np.sum(mask_3), np.sum(mask_4), np.sum(mask_5) ,np.sum(mask_5)\n",
    "print(N_1, N_2, N_3, N_4, N_5, N_6)"
   ]
  },
  {
   "cell_type": "code",
   "execution_count": 4,
   "metadata": {},
   "outputs": [],
   "source": [
    "from astropy.cosmology import FlatLambdaCDM\n",
    "cosmo = FlatLambdaCDM(H0=70, Om0=0.3, Ob0=0.05, Tcmb0=2.7255)\n",
    "\n",
    "vmax = cosmo.comoving_volume(t['Z']).value\n",
    "vmax = vmax/np.mean(vmax)"
   ]
  },
  {
   "cell_type": "code",
   "execution_count": 50,
   "metadata": {},
   "outputs": [
    {
     "data": {
      "image/png": "[encoded data removed]",
      "text/plain": [
       "<Figure size 432x288 with 1 Axes>"
      ]
     },
     "metadata": {},
     "output_type": "display_data"
    }
   ],
   "source": [
    "bins = np.linspace(0,1,20)\n",
    "bin_centers = (bins[:-1]+bins[1:])/2.0\n",
    "\n",
    "shape_key = 'AB_ISO'  # AB_EXP AB_DEV AB_ISO\n",
    "\n",
    "x_1 = t[shape_key][mask_1]\n",
    "x_2 = t[shape_key][mask_2]\n",
    "x_3 = t[shape_key][mask_3]\n",
    "x_4 = t[shape_key][mask_4]\n",
    "x_5 = t[shape_key][mask_5]\n",
    "x_6 = t[shape_key][mask_6]\n",
    "\n",
    "w_1 = 1.0/(t['FGOTMAIN'][mask_1]*vmax[mask_1])\n",
    "w_2 = 1.0/(t['FGOTMAIN'][mask_2]*vmax[mask_2])\n",
    "w_3 = 1.0/(t['FGOTMAIN'][mask_3]*vmax[mask_3])\n",
    "w_4 = 1.0/(t['FGOTMAIN'][mask_4]*vmax[mask_4])\n",
    "w_5 = 1.0/(t['FGOTMAIN'][mask_5]*vmax[mask_5])\n",
    "w_6 = 1.0/(t['FGOTMAIN'][mask_6]*vmax[mask_6])\n",
    "\n",
    "y_1, y_err_1 = bootstrap_measurement(x_1, bins, weights=w_1, Nboot=100)\n",
    "y_2, y_err_2 = bootstrap_measurement(x_2, bins, weights=w_2, Nboot=100)\n",
    "y_3, y_err_3 = bootstrap_measurement(x_3, bins, weights=w_3, Nboot=100)\n",
    "y_4, y_err_4 = bootstrap_measurement(x_4, bins, weights=w_4, Nboot=100)\n",
    "y_5, y_err_5 = bootstrap_measurement(x_5, bins, weights=w_5, Nboot=100)\n",
    "y_6, y_err_6 = bootstrap_measurement(x_6, bins, weights=w_6, Nboot=100)\n",
    "\n",
    "colors = plt.cm.cool(np.linspace(0,1,6))\n",
    "\n",
    "plt.figure()\n",
    "plt.errorbar(bin_centers, y_1, y_err_1, fmt='o', color=colors[0])\n",
    "plt.errorbar(bin_centers, y_2, y_err_2, fmt='o', color=colors[1])\n",
    "plt.errorbar(bin_centers, y_3, y_err_3, fmt='o', color=colors[2])\n",
    "plt.errorbar(bin_centers, y_4, y_err_4, fmt='o', color=colors[3])\n",
    "plt.errorbar(bin_centers, y_5, y_err_5, fmt='o', color=colors[4])\n",
    "plt.errorbar(bin_centers, y_6, y_err_6, fmt='o', color=colors[5])\n",
    "plt.xlabel(r'projected $b/a$')\n",
    "plt.ylabel(r'frequency')\n",
    "plt.ylim([0,3])\n",
    "plt.show()"
   ]
  },
  {
   "cell_type": "code",
   "execution_count": 55,
   "metadata": {},
   "outputs": [
    {
     "data": {
      "image/png": "[encoded data removed]",
      "text/plain": [
       "<Figure size 432x288 with 1 Axes>"
      ]
     },
     "metadata": {},
     "output_type": "display_data"
    }
   ],
   "source": [
    "bins = np.linspace(0,1,20)\n",
    "bin_centers = (bins[:-1]+bins[1:])/2.0\n",
    "\n",
    "shape_key = 'AB_EXP'  # AB_EXP AB_DEV AB_ISO\n",
    "\n",
    "x_1 = t[shape_key][mask_1 & disks]\n",
    "x_2 = t[shape_key][mask_2 & disks]\n",
    "x_3 = t[shape_key][mask_3 & disks]\n",
    "x_4 = t[shape_key][mask_4 & disks]\n",
    "x_5 = t[shape_key][mask_5 & disks]\n",
    "x_6 = t[shape_key][mask_6 & disks]\n",
    "\n",
    "w_1 = 1.0/(t['FGOTMAIN'][mask_1 & disks] * vmax[mask_1 & disks])\n",
    "w_2 = 1.0/(t['FGOTMAIN'][mask_2 & disks] * vmax[mask_2 & disks])\n",
    "w_3 = 1.0/(t['FGOTMAIN'][mask_3 & disks] * vmax[mask_3 & disks])\n",
    "w_4 = 1.0/(t['FGOTMAIN'][mask_4 & disks] * vmax[mask_4 & disks])\n",
    "w_5 = 1.0/(t['FGOTMAIN'][mask_5 & disks] * vmax[mask_5 & disks])\n",
    "w_6 = 1.0/(t['FGOTMAIN'][mask_6 & disks] * vmax[mask_6 & disks])\n",
    "\n",
    "y_1, y_err_1 = bootstrap_measurement(x_1, bins, weights=w_1, Nboot=100)\n",
    "y_2, y_err_2 = bootstrap_measurement(x_2, bins, weights=w_2, Nboot=100)\n",
    "y_3, y_err_3 = bootstrap_measurement(x_3, bins, weights=w_3, Nboot=100)\n",
    "y_4, y_err_4 = bootstrap_measurement(x_4, bins, weights=w_4, Nboot=100)\n",
    "y_5, y_err_5 = bootstrap_measurement(x_5, bins, weights=w_5, Nboot=100)\n",
    "y_6, y_err_6 = bootstrap_measurement(x_6, bins, weights=w_6, Nboot=100)\n",
    "\n",
    "colors = plt.cm.cool(np.linspace(0,1,6))\n",
    "\n",
    "plt.figure()\n",
    "plt.errorbar(bin_centers, y_1, y_err_1, fmt='o', color=colors[0])\n",
    "plt.errorbar(bin_centers, y_2, y_err_2, fmt='o', color=colors[1])\n",
    "plt.errorbar(bin_centers, y_3, y_err_3, fmt='o', color=colors[2])\n",
    "plt.errorbar(bin_centers, y_4, y_err_4, fmt='o', color=colors[3])\n",
    "plt.errorbar(bin_centers, y_5, y_err_5, fmt='o', color=colors[4])\n",
    "plt.errorbar(bin_centers, y_6, y_err_6, fmt='o', color=colors[5])\n",
    "plt.xlabel(r'projected $b/a$')\n",
    "plt.ylabel(r'frequency')\n",
    "plt.ylim([0,3.5])\n",
    "plt.show()"
   ]
  },
  {
   "cell_type": "code",
   "execution_count": 56,
   "metadata": {},
   "outputs": [
    {
     "data": {
      "image/png": "[encoded data removed]",
      "text/plain": [
       "<Figure size 432x288 with 1 Axes>"
      ]
     },
     "metadata": {},
     "output_type": "display_data"
    }
   ],
   "source": [
    "bins = np.linspace(0,1,20)\n",
    "bin_centers = (bins[:-1]+bins[1:])/2.0\n",
    "\n",
    "shape_key = 'AB_DEV'  # AB_EXP AB_DEV AB_ISO\n",
    "\n",
    "x_1 = t[shape_key][mask_1 & ellipticals]\n",
    "x_2 = t[shape_key][mask_2 & ellipticals]\n",
    "x_3 = t[shape_key][mask_3 & ellipticals]\n",
    "x_4 = t[shape_key][mask_4 & ellipticals]\n",
    "x_5 = t[shape_key][mask_5 & ellipticals]\n",
    "x_6 = t[shape_key][mask_6 & ellipticals]\n",
    "\n",
    "w_1 = 1.0/(t['FGOTMAIN'][mask_1 & ellipticals] * vmax[mask_1 & ellipticals])\n",
    "w_2 = 1.0/(t['FGOTMAIN'][mask_2 & ellipticals] * vmax[mask_2 & ellipticals])\n",
    "w_3 = 1.0/(t['FGOTMAIN'][mask_3 & ellipticals] * vmax[mask_3 & ellipticals])\n",
    "w_4 = 1.0/(t['FGOTMAIN'][mask_4 & ellipticals] * vmax[mask_4 & ellipticals])\n",
    "w_5 = 1.0/(t['FGOTMAIN'][mask_5 & ellipticals] * vmax[mask_5 & ellipticals])\n",
    "w_6 = 1.0/(t['FGOTMAIN'][mask_6 & ellipticals] * vmax[mask_6 & ellipticals])\n",
    "\n",
    "y_1, y_err_1 = bootstrap_measurement(x_1, bins, weights=w_1, Nboot=100)\n",
    "y_2, y_err_2 = bootstrap_measurement(x_2, bins, weights=w_2, Nboot=100)\n",
    "y_3, y_err_3 = bootstrap_measurement(x_3, bins, weights=w_3, Nboot=100)\n",
    "y_4, y_err_4 = bootstrap_measurement(x_4, bins, weights=w_4, Nboot=100)\n",
    "y_5, y_err_5 = bootstrap_measurement(x_5, bins, weights=w_5, Nboot=100)\n",
    "y_6, y_err_6 = bootstrap_measurement(x_6, bins, weights=w_6, Nboot=100)\n",
    "\n",
    "colors = plt.cm.cool(np.linspace(0,1,6))\n",
    "\n",
    "plt.figure()\n",
    "plt.errorbar(bin_centers, y_1, y_err_1, fmt='o', color=colors[0])\n",
    "plt.errorbar(bin_centers, y_2, y_err_2, fmt='o', color=colors[1])\n",
    "plt.errorbar(bin_centers, y_3, y_err_3, fmt='o', color=colors[2])\n",
    "plt.errorbar(bin_centers, y_4, y_err_4, fmt='o', color=colors[3])\n",
    "plt.errorbar(bin_centers, y_5, y_err_5, fmt='o', color=colors[4])\n",
    "plt.errorbar(bin_centers, y_6, y_err_6, fmt='o', color=colors[5])\n",
    "plt.xlabel(r'projected $b/a$')\n",
    "plt.ylabel(r'frequency')\n",
    "plt.ylim([0,3.5])\n",
    "plt.show()"
   ]
  },
  {
   "cell_type": "code",
   "execution_count": 16,
   "metadata": {},
   "outputs": [],
   "source": [
    "def bootstrap_measurement(x, bins, weights=None, Nboot=100):\n",
    "    \"\"\"\n",
    "    \"\"\"\n",
    "    N = len(x)\n",
    "    \n",
    "    if weights is None:\n",
    "        weights = np.ones(N)\n",
    "    \n",
    "    inds = np.arange(0,N)\n",
    "    \n",
    "    f = np.zeros((Nboot, len(bins)-1))\n",
    "    for i in range(0,Nboot):\n",
    "        idx = np.random.choice(inds, size=N, replace=True)\n",
    "        xx = x[idx]\n",
    "        ww = weights[idx]\n",
    "        counts = np.histogram(xx, weights=ww, bins=bins)[0]\n",
    "        f[i,:] = 1.0*counts/np.sum(ww)/np.diff(bins)\n",
    "    \n",
    "    return np.mean(f, axis=0), np.std(f, axis=0)"
   ]
  },
  {
   "cell_type": "code",
   "execution_count": 5,
   "metadata": {},
   "outputs": [],
   "source": [
    "bins = np.linspace(-24, -17, 35)\n",
    "bin_centers = (bins[:-1]+bins[1:])/2.0\n",
    "\n",
    "w = 1.0/(t['FGOTMAIN'] * vmax)\n",
    "counts_disks = np.histogram(t['ABSMAG_r0.1'][disks], bins=bins, weights=w[disks])[0]\n",
    "counts_total = np.histogram(t['ABSMAG_r0.1'], bins=bins, weights=w)[0]"
   ]
  },
  {
   "cell_type": "code",
   "execution_count": 7,
   "metadata": {},
   "outputs": [
    {
     "data": {
      "image/png": "[encoded data removed]",
      "text/plain": [
       "<Figure size 432x288 with 1 Axes>"
      ]
     },
     "metadata": {},
     "output_type": "display_data"
    }
   ],
   "source": [
    "from galaxy_shapes.shape_models.morphology_model_components import Morphology_2\n",
    "morphology_model = Morphology_2()\n",
    "morphology_model.param_dict['morphology_sigma'] = 1.5\n",
    "morphology_model.param_dict['morphology_m0'] = -20.5\n",
    "\n",
    "plt.plot(bin_centers, 1-counts_disks/counts_total, 'o')\n",
    "plt.plot(bin_centers, 1-morphology_model.disk_fraction(bin_centers))\n",
    "plt.xlim([-17,-24])\n",
    "plt.ylim([0,1])\n",
    "plt.show()"
   ]
  },
  {
   "cell_type": "code",
   "execution_count": null,
   "metadata": {},
   "outputs": [],
   "source": []
  }
 ],
 "metadata": {
  "kernelspec": {
   "display_name": "Python 2",
   "language": "python",
   "name": "python2"
  },
  "language_info": {
   "codemirror_mode": {
    "name": "ipython",
    "version": 2
   },
   "file_extension": ".py",
   "mimetype": "text/x-python",
   "name": "python",
   "nbconvert_exporter": "python",
   "pygments_lexer": "ipython2",
   "version": "2.7.15"
  }
 },
 "nbformat": 4,
 "nbformat_minor": 2
}
