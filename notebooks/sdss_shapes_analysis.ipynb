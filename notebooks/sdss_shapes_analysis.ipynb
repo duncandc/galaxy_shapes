{
 "cells": [
  {
   "cell_type": "code",
   "execution_count": 1,
   "metadata": {},
   "outputs": [],
   "source": [
    "from __future__ import print_function, division\n",
    "import numpy as np\n",
    "import matplotlib.pyplot as plt\n",
    "%matplotlib inline"
   ]
  },
  {
   "cell_type": "markdown",
   "metadata": {},
   "source": [
    "# SDSS Shapes Analysis"
   ]
  },
  {
   "cell_type": "code",
   "execution_count": 129,
   "metadata": {},
   "outputs": [
    {
     "name": "stdout",
     "output_type": "stream",
     "text": [
      "RA\n",
      "DEC\n",
      "Z\n",
      "ZTYPE\n",
      "FGOTMAIN\n",
      "AB_DEV\n",
      "AB_EXP\n",
      "AB_ISO\n",
      "PHI_ISO_DEG\n",
      "PHI_DEV_DEG\n",
      "PHI_EXP_DEG\n",
      "ABSMAG_u0.1\n",
      "ABSMAG_g0.1\n",
      "ABSMAG_r0.1\n",
      "ABSMAG_i0.1\n",
      "ABSMAG_z0.1\n",
      "FRACPSF\n"
     ]
    }
   ],
   "source": [
    "# open SDSS catalog\n",
    "\n",
    "from astropy.table import Table\n",
    "fpath = '../data/SDSS_Main/'\n",
    "fname = 'sdss_vagc.hdf5'\n",
    "t = Table.read(fpath+fname, path='data')\n",
    "\n",
    "for colname in t.dtype.names:\n",
    "    print(colname)"
   ]
  },
  {
   "cell_type": "code",
   "execution_count": 75,
   "metadata": {},
   "outputs": [
    {
     "name": "stdout",
     "output_type": "stream",
     "text": [
      "16205 40464 111172 187776 142809\n"
     ]
    }
   ],
   "source": [
    "disks = t['FRACPSF'][:,2] < 0.8\n",
    "ellipticals = t['FRACPSF'][:,2] >= 0.8\n",
    "\n",
    "mask_1 = (t['ABSMAG_r0.1'] > -18) & (t['ABSMAG_r0.1'] <= -17)\n",
    "mask_2 = (t['ABSMAG_r0.1'] > -19) & (t['ABSMAG_r0.1'] <= -18)\n",
    "mask_3 = (t['ABSMAG_r0.1'] > -20) & (t['ABSMAG_r0.1'] <= -19)\n",
    "mask_4 = (t['ABSMAG_r0.1'] > -21) & (t['ABSMAG_r0.1'] <= -20)\n",
    "mask_5 = (t['ABSMAG_r0.1'] > -22) & (t['ABSMAG_r0.1'] <= -21)\n",
    "\n",
    "N_1, N_2, N_3, N_4, N_5 = np.sum(mask_1), np.sum(mask_2), np.sum(mask_3), np.sum(mask_4), np.sum(mask_5)\n",
    "print(N_1, N_2, N_3, N_4, N_5)"
   ]
  },
  {
   "cell_type": "code",
   "execution_count": 98,
   "metadata": {},
   "outputs": [],
   "source": [
    "from astropy.cosmology import FlatLambdaCDM\n",
    "cosmo = FlatLambdaCDM(H0=70, Om0=0.3, Ob0=0.05, Tcmb0=2.7255)\n",
    "\n",
    "vmax = cosmo.comoving_volume(t['Z']).value\n",
    "vmax = vmax/np.mean(vmax)"
   ]
  },
  {
   "cell_type": "code",
   "execution_count": 132,
   "metadata": {},
   "outputs": [
    {
     "data": {
      "image/png": "[encoded data removed]",
      "text/plain": [
       "<Figure size 432x288 with 1 Axes>"
      ]
     },
     "metadata": {},
     "output_type": "display_data"
    }
   ],
   "source": [
    "bins = np.linspace(0,1,20)\n",
    "bin_centers = (bins[:-1]+bins[1:])/2.0\n",
    "\n",
    "x_1 = t['FRACPSF'][:,2][mask_1]\n",
    "x_2 = t['FRACPSF'][:,2][mask_2]\n",
    "x_3 = t['FRACPSF'][:,2][mask_3]\n",
    "x_4 = t['FRACPSF'][:,2][mask_4]\n",
    "x_5 = t['FRACPSF'][:,2][mask_5]\n",
    "\n",
    "w_1 = 1.0/(t['FGOTMAIN'][mask_1]*vmax[mask_1])\n",
    "w_2 = 1.0/(t['FGOTMAIN'][mask_2]*vmax[mask_2])\n",
    "w_3 = 1.0/(t['FGOTMAIN'][mask_3]*vmax[mask_3])\n",
    "w_4 = 1.0/(t['FGOTMAIN'][mask_4]*vmax[mask_4])\n",
    "w_5 = 1.0/(t['FGOTMAIN'][mask_5]*vmax[mask_5])\n",
    "\n",
    "counts_1 = np.histogram(x_1, weights=w_1, bins=bins)[0]\n",
    "counts_1 = 1.0*counts_1/np.sum(w_1)/np.diff(bins)\n",
    "\n",
    "counts_2 = np.histogram(x_2, weights=w_2, bins=bins)[0]\n",
    "counts_2 = 1.0*counts_2/np.sum(w_2)/np.diff(bins)\n",
    "\n",
    "counts_3 = np.histogram(x_3, weights=w_3, bins=bins)[0]\n",
    "counts_3 = 1.0*counts_3/np.sum(w_3)/np.diff(bins)\n",
    "\n",
    "counts_4 = np.histogram(x_4, weights=w_4, bins=bins)[0]\n",
    "counts_4 = 1.0*counts_4/np.sum(w_4)/np.diff(bins)\n",
    "\n",
    "counts_5 = np.histogram(x_5, weights=w_5, bins=bins)[0]\n",
    "counts_5 = 1.0*counts_5/np.sum(w_5)/np.diff(bins)\n",
    "\n",
    "\n",
    "\n",
    "plt.figure()\n",
    "plt.plot(bin_centers, counts_1, 'o', color=colors[0])\n",
    "plt.plot(bin_centers, counts_2, 'o', color=colors[1])\n",
    "plt.plot(bin_centers, counts_3, 'o', color=colors[2])\n",
    "plt.plot(bin_centers, counts_4, 'o', color=colors[3])\n",
    "plt.plot(bin_centers, counts_5, 'o', color=colors[4])\n",
    "plt.xlabel(r'FRACDev')\n",
    "plt.ylabel('frequency')\n",
    "plt.ylim([0,3])\n",
    "plt.show()"
   ]
  },
  {
   "cell_type": "code",
   "execution_count": 124,
   "metadata": {},
   "outputs": [
    {
     "data": {
      "image/png": "[encoded data removed]",
      "text/plain": [
       "<Figure size 432x288 with 1 Axes>"
      ]
     },
     "metadata": {},
     "output_type": "display_data"
    }
   ],
   "source": [
    "bins = np.linspace(0,1,20)\n",
    "bin_centers = (bins[:-1]+bins[1:])/2.0\n",
    "\n",
    "shape_key = 'AB_ISO'  # AB_EXP AB_DEV AB_ISO\n",
    "\n",
    "x_1 = t[shape_key][mask_1]\n",
    "x_2 = t[shape_key][mask_2]\n",
    "x_3 = t[shape_key][mask_3]\n",
    "x_4 = t[shape_key][mask_4]\n",
    "x_5 = t[shape_key][mask_5]\n",
    "\n",
    "w_1 = 1.0/(t['FGOTMAIN'][mask_1]*vmax[mask_1])\n",
    "w_2 = 1.0/(t['FGOTMAIN'][mask_2]*vmax[mask_2])\n",
    "w_3 = 1.0/(t['FGOTMAIN'][mask_3]*vmax[mask_3])\n",
    "w_4 = 1.0/(t['FGOTMAIN'][mask_4]*vmax[mask_4])\n",
    "w_5 = 1.0/(t['FGOTMAIN'][mask_5]*vmax[mask_5])\n",
    "\n",
    "counts_1 = np.histogram(x_1, weights=w_1, bins=bins)[0]\n",
    "counts_1 = 1.0*counts_1/np.sum(w_1)/np.diff(bins)\n",
    "\n",
    "counts_2 = np.histogram(x_2, weights=w_2, bins=bins)[0]\n",
    "counts_2 = 1.0*counts_2/np.sum(w_2)/np.diff(bins)\n",
    "\n",
    "counts_3 = np.histogram(x_3, weights=w_3, bins=bins)[0]\n",
    "counts_3 = 1.0*counts_3/np.sum(w_3)/np.diff(bins)\n",
    "\n",
    "counts_4 = np.histogram(x_4, weights=w_4, bins=bins)[0]\n",
    "counts_4 = 1.0*counts_4/np.sum(w_4)/np.diff(bins)\n",
    "\n",
    "counts_5 = np.histogram(x_5, weights=w_5, bins=bins)[0]\n",
    "counts_5 = 1.0*counts_5/np.sum(w_5)/np.diff(bins)\n",
    "\n",
    "colors = plt.cm.cool(np.linspace(0,1,5))\n",
    "\n",
    "plt.figure()\n",
    "plt.plot(bin_centers, counts_1, 'o', color=colors[0])\n",
    "plt.plot(bin_centers, counts_2, 'o', color=colors[1])\n",
    "plt.plot(bin_centers, counts_3, 'o', color=colors[2])\n",
    "plt.plot(bin_centers, counts_4, 'o', color=colors[3])\n",
    "plt.plot(bin_centers, counts_5, 'o', color=colors[4])\n",
    "plt.xlabel(r'$projected b/a$')\n",
    "plt.ylabel('frequency')\n",
    "plt.ylim([0,3])\n",
    "plt.show()"
   ]
  },
  {
   "cell_type": "code",
   "execution_count": 137,
   "metadata": {},
   "outputs": [
    {
     "data": {
      "image/png": "[encoded data removed]",
      "text/plain": [
       "<Figure size 432x288 with 1 Axes>"
      ]
     },
     "metadata": {},
     "output_type": "display_data"
    }
   ],
   "source": [
    "bins = np.linspace(0,1,20)\n",
    "bin_centers = (bins[:-1]+bins[1:])/2.0\n",
    "\n",
    "shape_key = 'AB_ISO'  # AB_EXP AB_DEV AB_ISO\n",
    "\n",
    "x_1 = t[shape_key][mask_1 & disks]\n",
    "x_2 = t[shape_key][mask_2 & disks]\n",
    "x_3 = t[shape_key][mask_3 & disks]\n",
    "x_4 = t[shape_key][mask_4 & disks]\n",
    "x_5 = t[shape_key][mask_5 & disks]\n",
    "\n",
    "w_1 = 1.0/(t['FGOTMAIN'][mask_1 & disks] * vmax[mask_1 & disks])\n",
    "w_2 = 1.0/(t['FGOTMAIN'][mask_2 & disks] * vmax[mask_2 & disks])\n",
    "w_3 = 1.0/(t['FGOTMAIN'][mask_3 & disks] * vmax[mask_3 & disks])\n",
    "w_4 = 1.0/(t['FGOTMAIN'][mask_4 & disks] * vmax[mask_4 & disks])\n",
    "w_5 = 1.0/(t['FGOTMAIN'][mask_5 & disks] * vmax[mask_5 & disks])\n",
    "\n",
    "counts_1 = np.histogram(x_1, weights=w_1, bins=bins)[0]\n",
    "counts_1 = 1.0*counts_1/np.sum(w_1)/np.diff(bins)\n",
    "\n",
    "counts_2 = np.histogram(x_2, weights=w_2, bins=bins)[0]\n",
    "counts_2 = 1.0*counts_2/np.sum(w_2)/np.diff(bins)\n",
    "\n",
    "counts_3 = np.histogram(x_3, weights=w_3, bins=bins)[0]\n",
    "counts_3 = 1.0*counts_3/np.sum(w_3)/np.diff(bins)\n",
    "\n",
    "counts_4 = np.histogram(x_4, weights=w_4, bins=bins)[0]\n",
    "counts_4 = 1.0*counts_4/np.sum(w_4)/np.diff(bins)\n",
    "\n",
    "counts_5 = np.histogram(x_5, weights=w_5, bins=bins)[0]\n",
    "counts_5 = 1.0*counts_5/np.sum(w_5)/np.diff(bins)\n",
    "\n",
    "colors = plt.cm.cool(np.linspace(0,1,5))\n",
    "\n",
    "plt.figure()\n",
    "#plt.plot(bin_centers, counts_1, 'o', color=colors[0])\n",
    "#plt.plot(bin_centers, counts_2, 'o', color=colors[1])\n",
    "#plt.plot(bin_centers, counts_3, 'o', color=colors[2])\n",
    "#plt.plot(bin_centers, counts_4, 'o', color=colors[3])\n",
    "plt.plot(bin_centers, counts_5, 'o', color=colors[4])\n",
    "plt.xlabel(r'projected $b/a$')\n",
    "plt.ylabel(r'frequency')\n",
    "plt.ylim([0,3])\n",
    "plt.show()"
   ]
  },
  {
   "cell_type": "code",
   "execution_count": 131,
   "metadata": {},
   "outputs": [
    {
     "data": {
      "image/png": "[encoded data removed]",
      "text/plain": [
       "<Figure size 432x288 with 1 Axes>"
      ]
     },
     "metadata": {},
     "output_type": "display_data"
    }
   ],
   "source": [
    "bins = np.linspace(0,1,20)\n",
    "bin_centers = (bins[:-1]+bins[1:])/2.0\n",
    "\n",
    "shape_key = 'AB_ISO'  # AB_EXP AB_DEV AB_ISO\n",
    "\n",
    "x_1 = t[shape_key][mask_1 & ellipticals]\n",
    "x_2 = t[shape_key][mask_2 & ellipticals]\n",
    "x_3 = t[shape_key][mask_3 & ellipticals]\n",
    "x_4 = t[shape_key][mask_4 & ellipticals]\n",
    "x_5 = t[shape_key][mask_5 & ellipticals]\n",
    "\n",
    "w_1 = 1.0/(t['FGOTMAIN'][mask_1 & ellipticals] * vmax[mask_1 & ellipticals])\n",
    "w_2 = 1.0/(t['FGOTMAIN'][mask_2 & ellipticals] * vmax[mask_2 & ellipticals])\n",
    "w_3 = 1.0/(t['FGOTMAIN'][mask_3 & ellipticals] * vmax[mask_3 & ellipticals])\n",
    "w_4 = 1.0/(t['FGOTMAIN'][mask_4 & ellipticals] * vmax[mask_4 & ellipticals])\n",
    "w_5 = 1.0/(t['FGOTMAIN'][mask_5 & ellipticals] * vmax[mask_5 & ellipticals])\n",
    "\n",
    "counts_1 = np.histogram(x_1, weights=w_1, bins=bins)[0]\n",
    "counts_1 = 1.0*counts_1/np.sum(w_1)/np.diff(bins)\n",
    "\n",
    "counts_2 = np.histogram(x_2, weights=w_2, bins=bins)[0]\n",
    "counts_2 = 1.0*counts_2/np.sum(w_2)/np.diff(bins)\n",
    "\n",
    "counts_3 = np.histogram(x_3, weights=w_3, bins=bins)[0]\n",
    "counts_3 = 1.0*counts_3/np.sum(w_3)/np.diff(bins)\n",
    "\n",
    "counts_4 = np.histogram(x_4, weights=w_4, bins=bins)[0]\n",
    "counts_4 = 1.0*counts_4/np.sum(w_4)/np.diff(bins)\n",
    "\n",
    "counts_5 = np.histogram(x_5, weights=w_5, bins=bins)[0]\n",
    "counts_5 = 1.0*counts_5/np.sum(w_5)/np.diff(bins)\n",
    "\n",
    "colors = plt.cm.cool(np.linspace(0,1,5))\n",
    "\n",
    "plt.figure()\n",
    "plt.plot(bin_centers, counts_1, 'o', color=colors[0])\n",
    "plt.plot(bin_centers, counts_2, 'o', color=colors[1])\n",
    "plt.plot(bin_centers, counts_3, 'o', color=colors[2])\n",
    "plt.plot(bin_centers, counts_4, 'o', color=colors[3])\n",
    "plt.plot(bin_centers, counts_5, 'o', color=colors[4])\n",
    "plt.xlabel(r'projected $b/a$')\n",
    "plt.ylabel(r'frequency')\n",
    "plt.ylim([0,3])\n",
    "plt.show()"
   ]
  },
  {
   "cell_type": "code",
   "execution_count": null,
   "metadata": {},
   "outputs": [],
   "source": []
  }
 ],
 "metadata": {
  "kernelspec": {
   "display_name": "Python 2",
   "language": "python",
   "name": "python2"
  },
  "language_info": {
   "codemirror_mode": {
    "name": "ipython",
    "version": 2
   },
   "file_extension": ".py",
   "mimetype": "text/x-python",
   "name": "python",
   "nbconvert_exporter": "python",
   "pygments_lexer": "ipython2",
   "version": "2.7.15"
  }
 },
 "nbformat": 4,
 "nbformat_minor": 2
}
