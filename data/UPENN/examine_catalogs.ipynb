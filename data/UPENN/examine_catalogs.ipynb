{
 "cells": [
  {
   "cell_type": "code",
   "execution_count": 1,
   "metadata": {},
   "outputs": [],
   "source": [
    "from astropy.io import fits\n",
    "\n",
    "hdul = fits.open('UPenn_PhotDec_CAST.fits')  # open a FITS file\n",
    "data = hdul[1].data  # assume the first extension is a table"
   ]
  },
  {
   "cell_type": "code",
   "execution_count": 2,
   "metadata": {},
   "outputs": [
    {
     "data": {
      "text/plain": [
       "ColDefs(\n",
       "    name = 'galcount'; format = '1J'\n",
       "    name = 'objid'; format = '1K'\n",
       "    name = 'SDSSIAU'; format = '24A'\n",
       "    name = 'badflag'; format = '1J'\n",
       "    name = 'nchild'; format = '1I'\n",
       "    name = 'mode'; format = '1I'\n",
       "    name = 'run'; format = '1I'\n",
       "    name = 'rerun'; format = '1I'\n",
       "    name = 'camCol'; format = '1I'\n",
       "    name = 'field'; format = '1I'\n",
       "    name = 'obj'; format = '1I'\n",
       "    name = 'stripe'; format = '1J'\n",
       "    name = 'startmu'; format = '1J'; unit = 'arcsec'\n",
       "    name = 'specobjid'; format = '1K'\n",
       "    name = 'plate'; format = '1I'\n",
       "    name = 'mjd'; format = '1J'; unit = 'MJD'\n",
       "    name = 'fiberid'; format = '1I'\n",
       "    name = 'ra'; format = '1E'; unit = 'decimal degrees'\n",
       "    name = 'dec'; format = '1E'; unit = 'decimal degrees'\n",
       "    name = 'z'; format = '1E'\n",
       "    name = 'veldisp'; format = '1E'; unit = 'km/s'\n",
       "    name = 'veldispErr'; format = '1E'; unit = 'km/s'\n",
       "    name = 'eclass'; format = '1E'\n",
       "    name = 'p_el_debiased'; format = '1E'\n",
       "    name = 'p_cs_debiased'; format = '1E'\n",
       "    name = 'spiral'; format = '1J'\n",
       "    name = 'elliptical'; format = '1J'\n",
       "    name = 'uncertain'; format = '1J'\n",
       ")"
      ]
     },
     "execution_count": 2,
     "metadata": {},
     "output_type": "execute_result"
    }
   ],
   "source": [
    "data.columns"
   ]
  },
  {
   "cell_type": "code",
   "execution_count": 17,
   "metadata": {},
   "outputs": [
    {
     "data": {
      "text/plain": [
       "array([51691, 51691, 51691, ..., 52017, 52017, 52427], dtype=int32)"
      ]
     },
     "execution_count": 17,
     "metadata": {},
     "output_type": "execute_result"
    }
   ],
   "source": [
    "data['mjd']"
   ]
  },
  {
   "cell_type": "code",
   "execution_count": 18,
   "metadata": {},
   "outputs": [],
   "source": [
    "hdul = fits.open('UPenn_PhotDec_Models_rband.fits')  # open a FITS file\n",
    "data = hdul[1].data  # assume the first extension is a table"
   ]
  },
  {
   "cell_type": "code",
   "execution_count": 19,
   "metadata": {},
   "outputs": [
    {
     "data": {
      "text/plain": [
       "ColDefs(\n",
       "    name = 'm_tot'; format = '1E'; unit = 'mag'\n",
       "    name = 'm_aper'; format = '1E'; unit = 'mag'\n",
       "    name = 'BT'; format = '1E'\n",
       "    name = 'r_tot'; format = '1E'; unit = 'arcsec'\n",
       "    name = 'ba_tot'; format = '1E'\n",
       "    name = 'BT_aper'; format = '1E'\n",
       "    name = 'xctr_bulge'; format = '1E'; unit = 'pixels'\n",
       "    name = 'xctr_bulge_err'; format = '1E'; unit = 'pixels'\n",
       "    name = 'yctr_bulge'; format = '1E'; unit = 'pixels'\n",
       "    name = 'yctr_bulge_err'; format = '1E'; unit = 'pixels'\n",
       "    name = 'm_bulge'; format = '1E'; unit = 'mag'\n",
       "    name = 'm_bulge_err'; format = '1E'; unit = 'mag'\n",
       "    name = 'r_bulge'; format = '1E'; unit = 'arcsec'\n",
       "    name = 'r_bulge_err'; format = '1E'; unit = 'arcsec'\n",
       "    name = 'n_bulge'; format = '1E'\n",
       "    name = 'n_bulge_err'; format = '1E'\n",
       "    name = 'ba_bulge'; format = '1E'\n",
       "    name = 'ba_bulge_err'; format = '1E'\n",
       "    name = 'pa_bulge'; format = '1E'; unit = 'degrees'\n",
       "    name = 'pa_bulge_err'; format = '1E'; unit = 'degrees'\n",
       "    name = 'xctr_disk'; format = '1E'; unit = 'pixels'\n",
       "    name = 'xctr_disk_err'; format = '1E'; unit = 'pixels'\n",
       "    name = 'yctr_disk'; format = '1E'; unit = 'pixels'\n",
       "    name = 'yctr_disk_err'; format = '1E'; unit = 'pixels'\n",
       "    name = 'm_disk'; format = '1E'; unit = 'mag'\n",
       "    name = 'm_disk_err'; format = '1E'; unit = 'mag'\n",
       "    name = 'r_disk'; format = '1E'; unit = 'arcsec'\n",
       "    name = 'r_disk_err'; format = '1E'; unit = 'arcsec'\n",
       "    name = 'n_disk'; format = '1E'\n",
       "    name = 'n_disk_err'; format = '1E'\n",
       "    name = 'ba_disk'; format = '1E'\n",
       "    name = 'ba_disk_err'; format = '1E'\n",
       "    name = 'pa_disk'; format = '1E'; unit = 'degrees'\n",
       "    name = 'pa_disk_err'; format = '1E'; unit = 'degrees'\n",
       "    name = 'GalSky'; format = '1E'; unit = 'mag/arcsec^2'\n",
       "    name = 'GalSky_err'; format = '1E'; unit = 'mag/arcsec^2'\n",
       "    name = 'chi2nu'; format = '1E'\n",
       "    name = 'finalflag'; format = '1J'\n",
       "    name = 'autoflag'; format = '1J'\n",
       "    name = 'pyflag'; format = '1J'\n",
       "    name = 'pyfitflag'; format = '1J'\n",
       ")"
      ]
     },
     "execution_count": 19,
     "metadata": {},
     "output_type": "execute_result"
    }
   ],
   "source": [
    "data.columns"
   ]
  },
  {
   "cell_type": "code",
   "execution_count": 7,
   "metadata": {},
   "outputs": [],
   "source": [
    "hdul = fits.open('UPenn_PhotDec_nonParam_rband.fits')  # open a FITS file\n",
    "data = hdul[1].data  # assume the first extension is a table"
   ]
  },
  {
   "cell_type": "code",
   "execution_count": 8,
   "metadata": {},
   "outputs": [
    {
     "data": {
      "text/plain": [
       "ColDefs(\n",
       "    name = 'SexMag'; format = '1E'; unit = 'mag'\n",
       "    name = 'SexMag_Err'; format = '1E'; unit = 'mag'\n",
       "    name = 'SexHrad'; format = '1E'; unit = 'arcsec'\n",
       "    name = 'SexSky'; format = '1E'; unit = 'mag/arcsec^2'\n",
       "    name = 'num_targets'; format = '1I'\n",
       "    name = 'num_neighborfit'; format = '1I'\n",
       "    name = 'AperRad'; format = '1E'; unit = 'arcsec'\n",
       "    name = 'C'; format = '1E'\n",
       "    name = 'C_err'; format = '1E'\n",
       "    name = 'A'; format = '1E'\n",
       "    name = 'A_err'; format = '1E'\n",
       "    name = 'S'; format = '1E'\n",
       "    name = 'S_err'; format = '1E'\n",
       "    name = 'G'; format = '1E'\n",
       "    name = 'M20'; format = '1E'\n",
       "    name = 'extinction'; format = '1E'; unit = 'mag'\n",
       "    name = 'dismod'; format = '1E'; unit = 'mag'\n",
       "    name = 'kpc_per_arcsec'; format = '1E'; unit = 'kpc per arcsec'\n",
       "    name = 'Vmax'; format = '1E'; unit = 'Mpc^3'\n",
       "    name = 'SN'; format = '1E'\n",
       "    name = 'kcorr'; format = '1E'; unit = 'mag'\n",
       ")"
      ]
     },
     "execution_count": 8,
     "metadata": {},
     "output_type": "execute_result"
    }
   ],
   "source": [
    "data.columns"
   ]
  },
  {
   "cell_type": "code",
   "execution_count": null,
   "metadata": {},
   "outputs": [],
   "source": []
  }
 ],
 "metadata": {
  "kernelspec": {
   "display_name": "Python 2",
   "language": "python",
   "name": "python2"
  },
  "language_info": {
   "codemirror_mode": {
    "name": "ipython",
    "version": 2
   },
   "file_extension": ".py",
   "mimetype": "text/x-python",
   "name": "python",
   "nbconvert_exporter": "python",
   "pygments_lexer": "ipython2",
   "version": "2.7.15"
  }
 },
 "nbformat": 4,
 "nbformat_minor": 2
}
