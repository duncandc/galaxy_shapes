{
 "cells": [
  {
   "cell_type": "code",
   "execution_count": 1,
   "metadata": {},
   "outputs": [],
   "source": [
    "from astropy.table import Table"
   ]
  },
  {
   "cell_type": "code",
   "execution_count": 49,
   "metadata": {},
   "outputs": [
    {
     "name": "stdout",
     "output_type": "stream",
     "text": [
      "number of rows in table: 535192\n",
      "ABSM\n",
      "DEC\n",
      "ILSS\n",
      "IWINDOW\n",
      "LETTER_MASK\n",
      "M\n",
      "MMAX\n",
      "OBJECT_POSITION\n",
      "RA\n",
      "Z\n"
     ]
    }
   ],
   "source": [
    "# load table\n",
    "fpath = '../'\n",
    "fname = 'post_catalog.dr72bbright0.fits'\n",
    "t_1 = Table.read(fpath + fname)\n",
    "\n",
    "# number of rows\n",
    "print('number of rows in table: {0}'.format(len(t_1)))\n",
    "\n",
    "# print column names\n",
    "for name in sorted(t_1.colnames):\n",
    "    print(name)\n",
    "\n",
    "idx = t_1['OBJECT_POSITION']"
   ]
  },
  {
   "cell_type": "code",
   "execution_count": 3,
   "metadata": {},
   "outputs": [
    {
     "name": "stdout",
     "output_type": "stream",
     "text": [
      "number of rows in table: 2506754\n",
      "DEC\n",
      "FGOTMAIN\n",
      "ICOMB\n",
      "ILSS\n",
      "ISBAD\n",
      "M\n",
      "MMAX\n",
      "QUALITY\n",
      "RA\n",
      "SECTOR\n",
      "VAGC_SELECT\n",
      "Z\n",
      "ZTYPE\n"
     ]
    }
   ],
   "source": [
    "# load table\n",
    "fpath = '../'\n",
    "fname = 'lss_index.dr72.fits'\n",
    "t_2 = Table.read(fpath + fname)\n",
    "\n",
    "# number of rows\n",
    "print('number of rows in table: {0}'.format(len(t_2)))\n",
    "\n",
    "# print column names\n",
    "for name in sorted(t_2.colnames):\n",
    "    print(name)"
   ]
  },
  {
   "cell_type": "code",
   "execution_count": 4,
   "metadata": {},
   "outputs": [
    {
     "name": "stdout",
     "output_type": "stream",
     "text": [
      "number of rows in table: 2506754\n",
      "AB_DEV\n",
      "AB_EXP\n",
      "DEV_LNL\n",
      "EXP_LNL\n",
      "ISO_A\n",
      "ISO_B\n",
      "PHI_DEV_DEG\n",
      "PHI_EXP_DEG\n",
      "PHI_ISO_DEG\n",
      "STAR_LNL\n"
     ]
    }
   ],
   "source": [
    "# load table\n",
    "fpath = '../'\n",
    "fname = 'shapes_r.dr72.dat'\n",
    "colnames = ['STAR_LNL','EXP_LNL','DEV_LNL','ISO_A','ISO_B','AB_DEV','AB_EXP','PHI_ISO_DEG','PHI_DEV_DEG','PHI_EXP_DEG']\n",
    "t_3 = Table.read(fpath + fname, format='ascii', names=colnames)\n",
    "\n",
    "# number of rows\n",
    "print('number of rows in table: {0}'.format(len(t_3)))\n",
    "\n",
    "# print column names\n",
    "for name in sorted(t_3.colnames):\n",
    "    print(name)"
   ]
  },
  {
   "cell_type": "code",
   "execution_count": 5,
   "metadata": {},
   "outputs": [
    {
     "name": "stdout",
     "output_type": "stream",
     "text": [
      "number of rows in table: 2506754\n",
      "ANYANDMASK\n",
      "ANYORMASK\n",
      "CALIBFLUX\n",
      "CALIBFLUX_IVAR\n",
      "CHI68P\n",
      "CHUNKNAME\n",
      "CLASS\n",
      "DOF\n",
      "FIBERID\n",
      "FRACNSIGHI\n",
      "FRACNSIGLO\n",
      "FRACNSIGMA\n",
      "MJD\n",
      "NPOLY\n",
      "NSPECOBS\n",
      "OBJID\n",
      "OBJTYPE\n",
      "PLATE\n",
      "PLATEQUALITY\n",
      "PLATESN2\n",
      "PLUG_DEC\n",
      "PLUG_RA\n",
      "PRIMTARGET\n",
      "PROGNAME\n",
      "RCHI2\n",
      "RCHI2DIFF\n",
      "SDSS_SPECTRO_FIRSTGROUP\n",
      "SDSS_SPECTRO_INGROUP\n",
      "SDSS_SPECTRO_MULTGROUP\n",
      "SDSS_SPECTRO_NEXTGROUP\n",
      "SDSS_SPECTRO_TAG\n",
      "SDSS_SPECTRO_TAG_PRIMARY\n",
      "SECTARGET\n",
      "SN_MEDIAN\n",
      "SPEC1_G\n",
      "SPEC1_I\n",
      "SPEC1_R\n",
      "SPEC2_G\n",
      "SPEC2_I\n",
      "SPEC2_R\n",
      "SPECOBJ_ID\n",
      "SPECPRIMARY\n",
      "SPECTROFLUX\n",
      "SPECTROFLUX_IVAR\n",
      "SPECTROSKYFLUX\n",
      "SPECTROSYNFLUX\n",
      "SPECTROSYNFLUX_IVAR\n",
      "SUBCLASS\n",
      "TCOLUMN\n",
      "TFILE\n",
      "THETA\n",
      "THETA_COVAR\n",
      "TILE\n",
      "VDISP\n",
      "VDISPCHI2\n",
      "VDISPDOF\n",
      "VDISPNPIX\n",
      "VDISPZ\n",
      "VDISPZ_ERR\n",
      "VDISP_ERR\n",
      "WAVEMAX\n",
      "WAVEMIN\n",
      "WCOVERAGE\n",
      "Z\n",
      "ZWARNING\n",
      "Z_ERR\n"
     ]
    }
   ],
   "source": [
    "# load table\n",
    "fpath = '../'\n",
    "fname = 'object_sdss_spectro.fits'\n",
    "t_4 = Table.read(fpath + fname)\n",
    "\n",
    "# number of rows\n",
    "print('number of rows in table: {0}'.format(len(t_4)))\n",
    "\n",
    "# print column names\n",
    "for name in sorted(t_4.colnames):\n",
    "    print(name)"
   ]
  },
  {
   "cell_type": "code",
   "execution_count": 6,
   "metadata": {},
   "outputs": [
    {
     "name": "stdout",
     "output_type": "stream",
     "text": [
      "number of rows in table: 2506754\n",
      "BALKAN_ID\n",
      "CALIBOBJ_POSITION\n",
      "CALIB_STATUS\n",
      "CAMCOL\n",
      "COLC\n",
      "DEC\n",
      "DEVFLUX\n",
      "DEVFLUX_IVAR\n",
      "EXPFLUX\n",
      "EXPFLUX_IVAR\n",
      "EXTINCTION\n",
      "FIBERFLUX\n",
      "FIELD\n",
      "FLAGS\n",
      "FLAGS2\n",
      "FRACPSF\n",
      "ID\n",
      "IFIELD\n",
      "MODELFLUX\n",
      "MODELFLUX_IVAR\n",
      "NCHILD\n",
      "NMGYPERCOUNT\n",
      "OBJC_COLC\n",
      "OBJC_FLAGS\n",
      "OBJC_FLAGS2\n",
      "OBJC_ROWC\n",
      "PETROFLUX\n",
      "PETROFLUX_IVAR\n",
      "PETROR50\n",
      "PETROR90\n",
      "PSFFLUX\n",
      "PSFFLUX_IVAR\n",
      "PSP_SKYFLUX\n",
      "RA\n",
      "RERUN\n",
      "RESOLVE_STATUS\n",
      "RUN\n",
      "SCORE\n",
      "SDSS_IMAGING_TAG\n",
      "SDSS_IMAGING_TAG_PRIMARY\n",
      "SKYFLUX\n",
      "VAGC_SELECT\n"
     ]
    }
   ],
   "source": [
    "# load table\n",
    "fpath = '../'\n",
    "fname = 'object_sdss_imaging.fits'\n",
    "t_5 = Table.read(fpath + fname)\n",
    "\n",
    "# number of rows\n",
    "print('number of rows in table: {0}'.format(len(t_5)))\n",
    "\n",
    "# print column names\n",
    "for name in sorted(t_5.colnames):\n",
    "    print(name)"
   ]
  },
  {
   "cell_type": "code",
   "execution_count": 7,
   "metadata": {},
   "outputs": [
    {
     "name": "stdout",
     "output_type": "stream",
     "text": [
      "number of rows in table: 2506754\n",
      "ABMAGGIES\n",
      "ABMAGGIES_IVAR\n",
      "ABSMAG\n",
      "ABSMAG_IVAR\n",
      "B1000\n",
      "B300\n",
      "COEFFS\n",
      "DEC\n",
      "INTSFH\n",
      "KCORRECT\n",
      "MASS\n",
      "METS\n",
      "MTOL\n",
      "RA\n",
      "Z\n"
     ]
    }
   ],
   "source": [
    "# load table\n",
    "fpath = '../'\n",
    "fname = 'kcorrect.nearest.model.z0.10.fits'\n",
    "t_6 = Table.read(fpath + fname)\n",
    "\n",
    "# number of rows\n",
    "print('number of rows in table: {0}'.format(len(t_6)))\n",
    "\n",
    "# print column names\n",
    "for name in sorted(t_6.colnames):\n",
    "    print(name)"
   ]
  },
  {
   "cell_type": "code",
   "execution_count": 8,
   "metadata": {},
   "outputs": [],
   "source": [
    "ra = t_2['RA'][idx]\n",
    "dec = t_2['DEC'][idx]\n",
    "z = t_1['Z']\n",
    "absmag_r = t_6['ABSMAG'][idx,2]"
   ]
  },
  {
   "cell_type": "code",
   "execution_count": 9,
   "metadata": {},
   "outputs": [
    {
     "data": {
      "image/png": "[encoded data removed]",
      "text/plain": [
       "<Figure size 432x288 with 1 Axes>"
      ]
     },
     "metadata": {},
     "output_type": "display_data"
    }
   ],
   "source": [
    "plt.plot(z, absmag_r, '.', ms=1, alpha=1)\n",
    "plt.ylim(-15,-25)\n",
    "plt.xlim([0,0.4])\n",
    "plt.show()"
   ]
  },
  {
   "cell_type": "code",
   "execution_count": 28,
   "metadata": {},
   "outputs": [],
   "source": [
    "AB_ISO = t_3['ISO_B']/t_3['ISO_A']"
   ]
  },
  {
   "cell_type": "code",
   "execution_count": null,
   "metadata": {},
   "outputs": [],
   "source": []
  }
 ],
 "metadata": {
  "kernelspec": {
   "display_name": "Python 2",
   "language": "python",
   "name": "python2"
  },
  "language_info": {
   "codemirror_mode": {
    "name": "ipython",
    "version": 2
   },
   "file_extension": ".py",
   "mimetype": "text/x-python",
   "name": "python",
   "nbconvert_exporter": "python",
   "pygments_lexer": "ipython2",
   "version": "2.7.15"
  }
 },
 "nbformat": 4,
 "nbformat_minor": 2
}
