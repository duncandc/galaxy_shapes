{
 "cells": [
  {
   "cell_type": "code",
   "execution_count": 2,
   "metadata": {},
   "outputs": [],
   "source": [
    "# open lrg indices\n",
    "\n",
    "from astropy.table import Table\n",
    "t1 = Table.read('../lrg_sample_indices.dat', format='ascii')"
   ]
  },
  {
   "cell_type": "code",
   "execution_count": 6,
   "metadata": {},
   "outputs": [],
   "source": [
    "t2 = Table.read('../lrg_photo_cat.hdf5', path='data')"
   ]
  },
  {
   "cell_type": "code",
   "execution_count": 12,
   "metadata": {},
   "outputs": [],
   "source": [
    "t3 = Table.read('../object_sdss_imaging.fits')"
   ]
  },
  {
   "cell_type": "code",
   "execution_count": 13,
   "metadata": {},
   "outputs": [],
   "source": [
    "t4 = Table.read('../object_sdss_spectro.fits')"
   ]
  },
  {
   "cell_type": "code",
   "execution_count": 21,
   "metadata": {},
   "outputs": [
    {
     "data": {
      "text/plain": [
       "['RA',\n",
       " 'DEC',\n",
       " 'RUN',\n",
       " 'CAMCOL',\n",
       " 'FIELD',\n",
       " 'ID',\n",
       " 'PIXSCALE',\n",
       " 'PSF_FWHM',\n",
       " 'PHI_OFFSET',\n",
       " 'PETRORAD',\n",
       " 'PETRORADERR',\n",
       " 'PETROR50',\n",
       " 'PETROR50ERR',\n",
       " 'PETROR90',\n",
       " 'PETROR90ERR',\n",
       " 'M_E1',\n",
       " 'M_E2',\n",
       " 'M_E1E1ERR',\n",
       " 'M_E1E2ERR',\n",
       " 'M_E2E2ERR',\n",
       " 'M_RR_CC',\n",
       " 'M_RR_CCERR',\n",
       " 'M_CR4',\n",
       " 'M_E1_PSF',\n",
       " 'M_E2_PSF',\n",
       " 'M_RR_CC_PSF',\n",
       " 'M_CR4_PSF',\n",
       " 'ISO_ROWC',\n",
       " 'ISO_ROWCERR',\n",
       " 'ISO_ROWCGRAD',\n",
       " 'ISO_COLC',\n",
       " 'ISO_COLCERR',\n",
       " 'ISO_COLCGRAD',\n",
       " 'ISO_A',\n",
       " 'ISO_AERR',\n",
       " 'ISO_AGRAD',\n",
       " 'ISO_B',\n",
       " 'ISO_BERR',\n",
       " 'ISO_BGRAD',\n",
       " 'ISO_PHIGRAD',\n",
       " 'R_DEV',\n",
       " 'R_DEVERR',\n",
       " 'AB_DEV',\n",
       " 'AB_DEVERR',\n",
       " 'R_EXP',\n",
       " 'R_EXPERR',\n",
       " 'AB_EXP',\n",
       " 'AB_EXPERR',\n",
       " 'PHI_ISO_DEG',\n",
       " 'PHI_DEV_DEG',\n",
       " 'PHI_EXP_DEG']"
      ]
     },
     "execution_count": 21,
     "metadata": {},
     "output_type": "execute_result"
    }
   ],
   "source": [
    "t2.colnames"
   ]
  },
  {
   "cell_type": "code",
   "execution_count": 100,
   "metadata": {},
   "outputs": [],
   "source": [
    "bins = np.linspace(0,2,200)\n",
    "counts = np.histogram(e, bins=bins)[0]"
   ]
  },
  {
   "cell_type": "code",
   "execution_count": 101,
   "metadata": {},
   "outputs": [
    {
     "data": {
      "text/plain": [
       "[<matplotlib.lines.Line2D at 0x120d348d0>]"
      ]
     },
     "execution_count": 101,
     "metadata": {},
     "output_type": "execute_result"
    },
    {
     "data": {
      "image/png": "[encoded data removed]",
      "text/plain": [
       "<Figure size 432x288 with 1 Axes>"
      ]
     },
     "metadata": {},
     "output_type": "display_data"
    }
   ],
   "source": [
    "plt.plot(bins[:-1], counts)\n",
    "#plt.yscale('log')"
   ]
  },
  {
   "cell_type": "code",
   "execution_count": 94,
   "metadata": {},
   "outputs": [],
   "source": [
    "y = t2['M_E2'][:,1]/np.cos(2.0*np.radians(t2['PHI_ISO_DEG'][:,1]))"
   ]
  },
  {
   "cell_type": "code",
   "execution_count": 95,
   "metadata": {},
   "outputs": [
    {
     "name": "stderr",
     "output_type": "stream",
     "text": [
      "/Users/duncan/anaconda2/lib/python2.7/site-packages/ipykernel_launcher.py:1: RuntimeWarning: invalid value encountered in sqrt\n",
      "  \"\"\"Entry point for launching an IPython kernel.\n"
     ]
    }
   ],
   "source": [
    "e = np.sqrt(1-y)/np.sqrt(1+y)"
   ]
  },
  {
   "cell_type": "code",
   "execution_count": 93,
   "metadata": {},
   "outputs": [
    {
     "data": {
      "text/html": [
       "&lt;Column name=&apos;PHI_ISO_DEG&apos; dtype=&apos;float32&apos; length=105838&gt;\n",
       "<table>\n",
       "<tr><td>-67.99829</td></tr>\n",
       "<tr><td>27.929195</td></tr>\n",
       "<tr><td>89.31217</td></tr>\n",
       "<tr><td>14.884501</td></tr>\n",
       "<tr><td>-25.285116</td></tr>\n",
       "<tr><td>-25.098034</td></tr>\n",
       "<tr><td>54.379356</td></tr>\n",
       "<tr><td>-13.241968</td></tr>\n",
       "<tr><td>-5.8281007</td></tr>\n",
       "<tr><td>13.859051</td></tr>\n",
       "<tr><td>-49.27983</td></tr>\n",
       "<tr><td>-42.550438</td></tr>\n",
       "<tr><td>...</td></tr>\n",
       "<tr><td>10.799326</td></tr>\n",
       "<tr><td>-33.335567</td></tr>\n",
       "<tr><td>-48.506542</td></tr>\n",
       "<tr><td>60.237354</td></tr>\n",
       "<tr><td>-47.05362</td></tr>\n",
       "<tr><td>-60.482967</td></tr>\n",
       "<tr><td>58.556904</td></tr>\n",
       "<tr><td>83.08553</td></tr>\n",
       "<tr><td>-19.122288</td></tr>\n",
       "<tr><td>33.452507</td></tr>\n",
       "<tr><td>75.607704</td></tr>\n",
       "<tr><td>-16.138363</td></tr>\n",
       "</table>"
      ],
      "text/plain": [
       "<Column name='PHI_ISO_DEG' dtype='float32' length=105838>\n",
       " -67.99829\n",
       " 27.929195\n",
       "  89.31217\n",
       " 14.884501\n",
       "-25.285116\n",
       "-25.098034\n",
       " 54.379356\n",
       "-13.241968\n",
       "-5.8281007\n",
       " 13.859051\n",
       " -49.27983\n",
       "-42.550438\n",
       "       ...\n",
       " 10.799326\n",
       "-33.335567\n",
       "-48.506542\n",
       " 60.237354\n",
       " -47.05362\n",
       "-60.482967\n",
       " 58.556904\n",
       "  83.08553\n",
       "-19.122288\n",
       " 33.452507\n",
       " 75.607704\n",
       "-16.138363"
      ]
     },
     "execution_count": 93,
     "metadata": {},
     "output_type": "execute_result"
    }
   ],
   "source": [
    "t2['PHI_ISO_DEG'][:,1]"
   ]
  },
  {
   "cell_type": "code",
   "execution_count": null,
   "metadata": {},
   "outputs": [],
   "source": []
  }
 ],
 "metadata": {
  "kernelspec": {
   "display_name": "Python 2",
   "language": "python",
   "name": "python2"
  },
  "language_info": {
   "codemirror_mode": {
    "name": "ipython",
    "version": 2
   },
   "file_extension": ".py",
   "mimetype": "text/x-python",
   "name": "python",
   "nbconvert_exporter": "python",
   "pygments_lexer": "ipython2",
   "version": "2.7.15"
  }
 },
 "nbformat": 4,
 "nbformat_minor": 2
}
